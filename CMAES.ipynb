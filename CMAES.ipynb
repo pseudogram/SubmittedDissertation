{
 "cells": [
  {
   "cell_type": "code",
   "execution_count": 5,
   "metadata": {},
   "outputs": [
    {
     "name": "stdout",
     "output_type": "stream",
     "text": [
      "(5_w,10)-aCMA-ES (mu_w=3.2,w_1=45%) in dimension 8 (seed=466929, Sat Apr 21 22:44:08 2018)\n",
      "Iterat #Fevals   function value  axis ratio  sigma  min&max std  t[m:s]\n",
      "    1     10 5.245856238810283e+01 1.0e+00 4.19e-01  4e-01  4e-01 0:00.0\n",
      "    2     20 2.434971737246111e+01 1.1e+00 3.46e-01  3e-01  3e-01 0:00.0\n",
      "    3     30 2.892882594936827e+01 1.2e+00 3.35e-01  3e-01  3e-01 0:00.0\n",
      "  100   1000 5.489058273454106e+00 5.7e+00 3.32e-02  8e-03  3e-02 0:00.1\n",
      "  200   2000 1.754783913387039e+00 1.0e+01 8.68e-02  1e-02  4e-02 0:00.3\n",
      "  300   3000 1.040294418527370e-01 2.3e+01 7.13e-02  3e-03  2e-02 0:00.4\n",
      "  400   4000 1.151083612420823e-07 7.7e+01 4.95e-04  7e-06  2e-04 0:00.5\n",
      "  488   4880 4.218242019474238e-14 6.4e+01 1.36e-06  5e-09  1e-07 0:00.7\n",
      "termination on tolfun=1e-11\n",
      "final/bestever f-value = 4.218242e-14 2.617696e-14\n",
      "incumbent solution: [1.0000000026522906, 0.999999999992419, 1.0000000010536463, 1.000000008825832, 1.000000015885463, 1.000000023970211, 1.0000000500682253, 1.00000009853099]\n",
      "std deviation: [5.169147364763401e-09, 4.722749245233241e-09, 6.418814850202456e-09, 9.659693812449014e-09, 1.9097854168551215e-08, 3.706715861792988e-08, 7.482452837023202e-08, 1.4952256503101072e-07]\n"
     ]
    }
   ],
   "source": [
    "import cma\n",
    "\n",
    "es = cma.CMAEvolutionStrategy(8 * [0], 0.5)\n",
    "\n",
    "es.optimize(cma.ff.rosen);\n",
    "es.result_pretty();\n"
   ]
  },
  {
   "cell_type": "code",
   "execution_count": 8,
   "metadata": {},
   "outputs": [
    {
     "data": {
      "text/plain": [
       "10"
      ]
     },
     "execution_count": 8,
     "metadata": {},
     "output_type": "execute_result"
    }
   ],
   "source": [
    "len(es.ask())"
   ]
  },
  {
   "cell_type": "code",
   "execution_count": 54,
   "metadata": {},
   "outputs": [
    {
     "data": {
      "text/plain": [
       "(array([1.        , 1.00000001, 1.        , 0.99999999, 0.99999999,\n",
       "        0.99999999, 0.99999998, 0.99999996]), 3.687448312285955e-14, 4338)"
      ]
     },
     "execution_count": 54,
     "metadata": {},
     "output_type": "execute_result"
    }
   ],
   "source": [
    "es.best.get()"
   ]
  },
  {
   "cell_type": "code",
   "execution_count": 11,
   "metadata": {},
   "outputs": [
    {
     "ename": "TypeError",
     "evalue": "tell() missing 2 required positional arguments: 'solutions' and 'function_values'",
     "output_type": "error",
     "traceback": [
      "\u001b[0;31m---------------------------------------------------------------------------\u001b[0m",
      "\u001b[0;31mTypeError\u001b[0m                                 Traceback (most recent call last)",
      "\u001b[0;32m<ipython-input-11-043843c0c577>\u001b[0m in \u001b[0;36m<module>\u001b[0;34m()\u001b[0m\n\u001b[0;32m----> 1\u001b[0;31m \u001b[0mes\u001b[0m\u001b[0;34m.\u001b[0m\u001b[0mtell\u001b[0m\u001b[0;34m(\u001b[0m\u001b[0;34m)\u001b[0m\u001b[0;34m\u001b[0m\u001b[0m\n\u001b[0m",
      "\u001b[0;31mTypeError\u001b[0m: tell() missing 2 required positional arguments: 'solutions' and 'function_values'"
     ]
    }
   ],
   "source": [
    "es.tell()"
   ]
  },
  {
   "cell_type": "code",
   "execution_count": 55,
   "metadata": {},
   "outputs": [
    {
     "data": {
      "text/plain": [
       "3.687448312285955e-14"
      ]
     },
     "execution_count": 55,
     "metadata": {},
     "output_type": "execute_result"
    }
   ],
   "source": [
    "cma.ff.rosen(es.best.get()[0])"
   ]
  },
  {
   "cell_type": "code",
   "execution_count": 11,
   "metadata": {},
   "outputs": [
    {
     "name": "stdout",
     "output_type": "stream",
     "text": [
      "Help on method tell in module cma.evolution_strategy:\n",
      "\n",
      "tell(solutions, function_values, check_points=None, copy=False) method of cma.evolution_strategy.CMAEvolutionStrategy instance\n",
      "    pass objective function values to prepare for next\n",
      "    iteration. This core procedure of the CMA-ES algorithm updates\n",
      "    all state variables, in particular the two evolution paths, the\n",
      "    distribution mean, the covariance matrix and a step-size.\n",
      "    \n",
      "    Arguments\n",
      "    ---------\n",
      "    `solutions`\n",
      "        list or array of candidate solution points (of\n",
      "        type `numpy.ndarray`), most presumably before\n",
      "        delivered by method `ask()` or `ask_and_eval()`.\n",
      "    `function_values`\n",
      "        list or array of objective function values\n",
      "        corresponding to the respective points. Beside for termination\n",
      "        decisions, only the ranking of values in `function_values`\n",
      "        is used.\n",
      "    `check_points`\n",
      "        If ``check_points is None``, only solutions that are not generated\n",
      "        by `ask()` are possibly clipped (recommended). ``False`` does not clip\n",
      "        any solution (not recommended).\n",
      "        If ``True``, clips solutions that realize long steps (i.e. also\n",
      "        those that are unlikely to be generated with `ask()`). `check_points`\n",
      "        can be a list of indices to be checked in solutions.\n",
      "    `copy`\n",
      "        ``solutions`` can be modified in this routine, if ``copy is False``\n",
      "    \n",
      "    Details\n",
      "    -------\n",
      "    `tell()` updates the parameters of the multivariate\n",
      "    normal search distribution, namely covariance matrix and\n",
      "    step-size and updates also the attributes ``countiter`` and\n",
      "    ``countevals``. To check the points for consistency is quadratic\n",
      "    in the dimension (like sampling points).\n",
      "    \n",
      "    Bugs\n",
      "    ----\n",
      "    The effect of changing the solutions delivered by `ask()`\n",
      "    depends on whether boundary handling is applied. With boundary\n",
      "    handling, modifications are disregarded. This is necessary to\n",
      "    apply the default boundary handling that uses unrepaired\n",
      "    solutions but might change in future.\n",
      "    \n",
      "    Example\n",
      "    -------\n",
      "    \n",
      "    >>> import cma\n",
      "    >>> func = cma.ff.sphere  # choose objective function\n",
      "    >>> es = cma.CMAEvolutionStrategy(np.random.rand(2) / 3, 1.5)\n",
      "    ... # doctest:+ELLIPSIS\n",
      "    (3_...\n",
      "    >>> while not es.stop():\n",
      "    ...    X = es.ask()\n",
      "    ...    es.tell(X, [func(x) for x in X])\n",
      "    >>> es.result  # result is a `namedtuple` # doctest:+ELLIPSIS\n",
      "    CMAEvolutionStrategyResult(xbest=array([...\n",
      "    \n",
      "    :See: class `CMAEvolutionStrategy`, `ask`, `ask_and_eval`, `fmin`\n",
      "\n"
     ]
    }
   ],
   "source": [
    "help(es.tell)"
   ]
  },
  {
   "cell_type": "code",
   "execution_count": 31,
   "metadata": {},
   "outputs": [
    {
     "name": "stdout",
     "output_type": "stream",
     "text": [
      "None\n"
     ]
    }
   ],
   "source": [
    "print(es.tell(es.ask(),list(range(10))))"
   ]
  },
  {
   "cell_type": "code",
   "execution_count": 32,
   "metadata": {},
   "outputs": [],
   "source": [
    "es.logger.add()"
   ]
  },
  {
   "cell_type": "code",
   "execution_count": 33,
   "metadata": {},
   "outputs": [
    {
     "data": {
      "text/plain": [
       "<cma.evolution_strategy.CMAEvolutionStrategy at 0x106a733c8>"
      ]
     },
     "execution_count": 33,
     "metadata": {},
     "output_type": "execute_result"
    }
   ],
   "source": [
    "es.disp()"
   ]
  },
  {
   "cell_type": "code",
   "execution_count": 34,
   "metadata": {},
   "outputs": [
    {
     "name": "stdout",
     "output_type": "stream",
     "text": [
      "final/bestever f-value = 0.000000e+00 0.000000e+00\n",
      "incumbent solution: [-1.2553518538734318, -2.1707432988609265, 0.24141570138562923, 0.8894886057740475, 0.1913645867151627, -0.8628535979475405, -0.19136718509674822, -0.434455289922554]\n",
      "std deviation: [0.6021239394688946, 0.7612425939697748, 0.5743614661157478, 0.539043623489989, 0.5133889616642456, 0.5539505064729426, 0.5039389980253602, 0.5460227424027523]\n"
     ]
    },
    {
     "data": {
      "text/plain": [
       "CMAEvolutionStrategyResult(xbest=array([-0.05854607, -0.43709989,  0.20799779,  0.74176474,  0.49520995,\n",
       "       -0.82833559,  0.48621811, -0.08546264]), fbest=0, evals_best=1, evaluations=70, iterations=7, xfavorite=array([-1.25535185, -2.1707433 ,  0.2414157 ,  0.88948861,  0.19136459,\n",
       "       -0.8628536 , -0.19136719, -0.43445529]), stds=array([0.60212394, 0.76124259, 0.57436147, 0.53904362, 0.51338896,\n",
       "       0.55395051, 0.503939  , 0.54602274]))"
      ]
     },
     "execution_count": 34,
     "metadata": {},
     "output_type": "execute_result"
    }
   ],
   "source": [
    "es.result_pretty()"
   ]
  },
  {
   "cell_type": "code",
   "execution_count": 36,
   "metadata": {},
   "outputs": [
    {
     "data": {
      "image/png": "[encoded data removed]",
      "text/plain": [
       "<matplotlib.figure.Figure at 0x108317390>"
      ]
     },
     "metadata": {},
     "output_type": "display_data"
    },
    {
     "data": {
      "text/plain": [
       "<cma.evolution_strategy.CMADataLogger at 0x1075c34a8>"
      ]
     },
     "execution_count": 36,
     "metadata": {},
     "output_type": "execute_result"
    }
   ],
   "source": [
    "cma.plot()"
   ]
  },
  {
   "cell_type": "code",
   "execution_count": 62,
   "metadata": {},
   "outputs": [
    {
     "name": "stderr",
     "output_type": "stream",
     "text": [
      "[2018-04-21 15:37:54,510] Making new env: Pendulum-v0\n"
     ]
    }
   ],
   "source": [
    "import numpy as np\n",
    "import gym\n",
    "from core.agents import Linear, MLP, RNN\n",
    "\n",
    "ENV_NAME = 'Pendulum-v0'\n",
    "EPISODES = 10  # Number of times to run envionrment when evaluating\n",
    "STEPS = 300  # Max number of steps to run run simulation\n",
    "\n",
    "env = gym.make(ENV_NAME)\n",
    "\n",
    "# Used to create controller\n",
    "obs_dim = env.observation_space.shape[0]  # Input to controller (observ.)\n",
    "action_dim = env.action_space.shape[0]  # Output from controller (action)\n",
    "nodes = 10  # Unconnected nodes in network in the\n",
    "# dt = 0.05  # dt for the environment, found in environment source code\n",
    "dt = 1 # Works the best, 0.05 causes it to vanish\n",
    "\n",
    "agent = MLP(obs_dim, action_dim,[3,3])\n",
    "\n",
    "# ------------------------------------------------------------------------------\n",
    "#                               SET UP GA PARAMETERS\n",
    "# ------------------------------------------------------------------------------\n",
    "POPULATION_SIZE = 40\n",
    "NUM_GEN = 300   # Number of generations\n",
    "DEME_SIZE = 3  # from either side\n",
    "\n",
    "NUM_PARAMS = agent.num_params\n",
    "\n",
    "def evaluate(individual, MAX_REWARD=0 ):\n",
    "    \"\"\"Lends heavily from evaluate.py\"\"\"\n",
    "    # Load weights into RNN\n",
    "    agent.set_weights(individual)\n",
    "\n",
    "\n",
    "    total_reward = 0\n",
    "    for episode in range(EPISODES):\n",
    "        \n",
    "        observation = env.reset()\n",
    "        episode_reward = 0\n",
    "        \n",
    "        for step in range(STEPS):\n",
    "            observation = observation / np.array([1,1,8])\n",
    "            action = agent.percieve(observation) * 2\n",
    "            observation, reward, done, _ = env.step(action)\n",
    "            episode_reward += reward\n",
    "\n",
    "            if done:\n",
    "                break\n",
    "        total_reward += episode_reward\n",
    "\n",
    "    # returns the average reward for number of episodes run\n",
    "    total_reward /= EPISODES\n",
    "    \n",
    "    return total_reward"
   ]
  },
  {
   "cell_type": "code",
   "execution_count": 64,
   "metadata": {},
   "outputs": [
    {
     "name": "stdout",
     "output_type": "stream",
     "text": [
      "(6_w,13)-aCMA-ES (mu_w=4.0,w_1=38%) in dimension 28 (seed=367270, Sat Apr 21 15:43:28 2018)\n",
      "Iterat #Fevals   function value  axis ratio  sigma  min&max std  t[m:s]\n",
      "    1     13 -1.545001264992183e+03 1.0e+00 9.27e-01  9e-01  9e-01 0:00.4\n",
      "    2     26 -1.512739636295502e+03 1.1e+00 8.90e-01  9e-01  9e-01 0:00.9\n",
      "    3     39 -1.515829901700438e+03 1.1e+00 8.68e-01  9e-01  9e-01 0:01.3\n",
      "   11    143 -1.560011884585652e+03 1.3e+00 9.60e-01  9e-01  1e+00 0:04.5\n",
      "   22    286 -1.495006063444329e+03 1.7e+00 1.19e+00  1e+00  1e+00 0:08.8\n",
      "   35    455 -1.518441090720577e+03 1.7e+00 1.22e+00  1e+00  1e+00 0:14.2\n",
      "   50    650 -1.598206376916473e+03 1.8e+00 1.13e+00  1e+00  1e+00 0:20.3\n",
      "   68    884 -1.527056759721780e+03 2.0e+00 1.17e+00  1e+00  1e+00 0:27.5\n",
      "   88   1144 -1.522238791119368e+03 2.2e+00 1.07e+00  1e+00  1e+00 0:35.6\n",
      "  100   1300 -1.513569918996237e+03 2.3e+00 1.20e+00  1e+00  1e+00 0:40.3\n",
      "  125   1625 -1.585826464020031e+03 2.5e+00 9.83e-01  9e-01  1e+00 0:50.4\n",
      "  153   1989 -1.456204472937142e+03 2.7e+00 1.17e+00  1e+00  2e+00 1:01.7\n",
      "  183   2379 -1.519410323160550e+03 3.0e+00 1.03e+00  9e-01  1e+00 1:13.8\n",
      "  200   2600 -1.613548767677359e+03 3.3e+00 1.14e+00  1e+00  1e+00 1:20.6\n",
      "  236   3068 -1.571202161178976e+03 3.6e+00 1.92e+00  2e+00  2e+00 1:35.0\n",
      "  274   3562 -1.525676698328237e+03 3.6e+00 2.78e+00  2e+00  3e+00 1:50.1\n",
      "  300   3900 -1.556592799020539e+03 3.7e+00 3.83e+00  3e+00  5e+00 2:00.6\n",
      "  342   4446 -1.496173535552973e+03 3.8e+00 3.50e+00  3e+00  4e+00 2:17.9\n",
      "  387   5031 -1.534277031237433e+03 3.9e+00 4.29e+00  3e+00  5e+00 2:36.1\n",
      "  400   5200 -1.562467200114424e+03 4.1e+00 4.30e+00  3e+00  6e+00 2:41.2\n",
      "  451   5863 -1.520026470879434e+03 4.4e+00 3.63e+00  3e+00  5e+00 3:01.5\n",
      "  500   6500 -1.555014769603774e+03 4.9e+00 5.46e+00  4e+00  7e+00 3:21.3\n",
      "  556   7228 -1.601121748006533e+03 5.1e+00 9.99e+00  7e+00  1e+01 3:43.6\n",
      "  600   7800 -1.584084020282574e+03 5.8e+00 6.19e+00  5e+00  8e+00 4:01.2\n",
      "  661   8593 -1.554769371559433e+03 6.2e+00 6.91e+00  5e+00  9e+00 4:25.4\n",
      "  700   9100 -1.553233060178684e+03 6.4e+00 2.91e+00  2e+00  4e+00 4:40.9\n",
      "  764   9932 -1.520596422068450e+03 7.2e+00 2.16e+00  1e+00  3e+00 5:07.0\n",
      "  800  10400 -1.519186090962372e+03 6.9e+00 2.18e+00  1e+00  3e+00 5:21.3\n",
      "  870  11310 -1.513951056398054e+03 7.4e+00 3.25e+00  2e+00  4e+00 5:49.3\n",
      "  900  11700 -1.527550680192742e+03 7.8e+00 3.63e+00  2e+00  5e+00 6:01.2\n",
      "  976  12688 -1.592049435148162e+03 8.6e+00 3.39e+00  2e+00  4e+00 6:31.5\n",
      " 1000  13000 -1.574758958257947e+03 8.6e+00 2.79e+00  2e+00  3e+00 6:41.0\n",
      "Iterat #Fevals   function value  axis ratio  sigma  min&max std  t[m:s]\n",
      " 1080  14040 -1.549354076676155e+03 9.6e+00 1.80e+00  1e+00  2e+00 7:13.2\n",
      " 1100  14300 -1.655600725326458e+03 9.6e+00 1.48e+00  9e-01  2e+00 7:21.1\n",
      " 1185  15405 -1.546559666530949e+03 1.0e+01 1.28e+00  8e-01  2e+00 7:55.2\n",
      " 1200  15600 -1.631723681522853e+03 1.1e+01 1.31e+00  8e-01  2e+00 8:01.2\n",
      " 1235  16055 -1.494702395877635e+03 1.2e+01 2.22e+00  1e+00  3e+00 8:15.1\n"
     ]
    }
   ],
   "source": [
    "es = cma.CMAEvolutionStrategy(agent.num_params * [0], 1)\n",
    "\n",
    "es.optimize(evaluate);"
   ]
  },
  {
   "cell_type": "code",
   "execution_count": 72,
   "metadata": {},
   "outputs": [
    {
     "data": {
      "text/plain": [
       "-1276.297104936177"
      ]
     },
     "execution_count": 72,
     "metadata": {},
     "output_type": "execute_result"
    }
   ],
   "source": [
    "evaluate(es.best.get()[0])"
   ]
  },
  {
   "cell_type": "code",
   "execution_count": 1,
   "metadata": {},
   "outputs": [
    {
     "name": "stderr",
     "output_type": "stream",
     "text": [
      "[2018-04-21 20:52:39,749] Making new env: Pendulum-v0\n"
     ]
    }
   ],
   "source": [
    "import numpy as np\n",
    "import gym\n",
    "from core.agents import rnn\n",
    "\n",
    "ENV_NAME = 'Pendulum-v0'\n",
    "EPISODES = 3  # Number of times to run envionrment when evaluating\n",
    "STEPS = 300  # Max number of steps to run run simulation\n",
    "\n",
    "env = gym.make(ENV_NAME)\n",
    "\n",
    "# Used to create controller\n",
    "obs_dim = env.observation_space.shape[0]  # Input to controller (observ.)\n",
    "action_dim = env.action_space.shape[0]  # Output from controller (action)\n",
    "nodes = 10  # Unconnected nodes in network in the\n",
    "# dt = 0.05  # dt for the environment, found in environment source code\n",
    "dt = 1 # Works the best, 0.05 causes it to vanish\n"
   ]
  },
  {
   "cell_type": "code",
   "execution_count": 2,
   "metadata": {},
   "outputs": [
    {
     "name": "stdout",
     "output_type": "stream",
     "text": [
      "151\n"
     ]
    }
   ],
   "source": [
    "agent = rnn(obs_dim, action_dim, 10)\n",
    "\n",
    "# ------------------------------------------------------------------------------\n",
    "#                               SET UP GA PARAMETERS\n",
    "# ------------------------------------------------------------------------------\n",
    "POPULATION_SIZE = 40\n",
    "NUM_GEN = 300   # Number of generations\n",
    "DEME_SIZE = 3  # from either side\n",
    "\n",
    "NUM_PARAMS = agent.num_params\n",
    "print(NUM_PARAMS)\n",
    "\n",
    "def evaluate(individual, MAX_REWARD=0 ):\n",
    "    \"\"\"Lends heavily from evaluate.py\"\"\"\n",
    "    # Load weights into RNN\n",
    "    agent.set_weights(individual)\n",
    "\n",
    "\n",
    "    total_reward = 0\n",
    "    for episode in range(EPISODES):\n",
    "        \n",
    "        observation = env.reset()\n",
    "        episode_reward = 0\n",
    "        \n",
    "        for step in range(STEPS):\n",
    "            observation = observation / np.array([1,1,8])\n",
    "            action = agent.percieve(observation) * 2\n",
    "            observation, reward, done, _ = env.step(action)\n",
    "            episode_reward += reward\n",
    "\n",
    "            if done:\n",
    "                break\n",
    "        total_reward += episode_reward\n",
    "\n",
    "    # returns the average reward for number of episodes run\n",
    "    total_reward /= EPISODES\n",
    "    \n",
    "    return total_reward"
   ]
  },
  {
   "cell_type": "code",
   "execution_count": 3,
   "metadata": {},
   "outputs": [],
   "source": [
    "import cma"
   ]
  },
  {
   "cell_type": "code",
   "execution_count": 4,
   "metadata": {},
   "outputs": [
    {
     "name": "stdout",
     "output_type": "stream",
     "text": [
      "(9_w,19)-aCMA-ES (mu_w=5.6,w_1=29%) in dimension 151 (seed=484049, Sat Apr 21 20:52:40 2018)\n",
      "Iterat #Fevals   function value  axis ratio  sigma  min&max std  t[m:s]\n",
      "    1     19 -1.490180143139148e+03 1.0e+00 9.70e-01  1e+00  1e+00 0:00.5\n",
      "    2     38 -1.543116402671411e+03 1.0e+00 9.44e-01  9e-01  9e-01 0:01.0\n",
      "    3     57 -1.570067970030574e+03 1.0e+00 9.23e-01  9e-01  9e-01 0:01.6\n",
      "    9    171 -1.463907726773008e+03 1.0e+00 8.41e-01  8e-01  8e-01 0:04.8\n",
      "   18    342 -1.626527033012399e+03 1.0e+00 7.81e-01  8e-01  8e-01 0:09.2\n",
      "   28    532 -1.512635289283581e+03 1.1e+00 7.61e-01  8e-01  8e-01 0:14.4\n",
      "   40    760 -1.612133056903772e+03 1.1e+00 7.40e-01  7e-01  7e-01 0:20.5\n",
      "   54   1026 -1.627987640152108e+03 1.2e+00 7.18e-01  7e-01  7e-01 0:27.6\n",
      "   70   1330 -1.460422407051435e+03 1.2e+00 7.28e-01  7e-01  7e-01 0:35.7\n",
      "   89   1691 -1.603130400330567e+03 1.3e+00 6.96e-01  7e-01  7e-01 0:45.1\n",
      "  100   1900 -1.745042801939242e+03 1.3e+00 6.93e-01  7e-01  7e-01 0:51.0\n",
      "  122   2318 -1.742075467087344e+03 1.4e+00 6.70e-01  7e-01  7e-01 1:02.5\n",
      "  145   2755 -1.490990689575608e+03 1.4e+00 6.41e-01  6e-01  7e-01 1:14.9\n",
      "  168   3192 -1.533054854451113e+03 1.4e+00 6.17e-01  6e-01  6e-01 1:28.1\n",
      "  194   3686 -1.665397109361646e+03 1.4e+00 6.31e-01  6e-01  6e-01 1:42.6\n",
      "  200   3800 -1.582061481383081e+03 1.4e+00 6.29e-01  6e-01  6e-01 1:45.9\n",
      "  226   4294 -1.444376018849698e+03 1.5e+00 6.32e-01  6e-01  6e-01 2:02.0\n",
      "  258   4902 -1.391970445767799e+03 1.5e+00 6.39e-01  6e-01  7e-01 2:19.3\n",
      "  293   5567 -1.598384642311097e+03 1.5e+00 6.06e-01  6e-01  6e-01 2:37.7\n",
      "  300   5700 -1.569326331404706e+03 1.5e+00 6.01e-01  6e-01  6e-01 2:41.3\n",
      "  337   6403 -1.543826850428799e+03 1.5e+00 6.32e-01  6e-01  6e-01 3:01.8\n",
      "  378   7182 -1.644440314362256e+03 1.5e+00 6.82e-01  7e-01  7e-01 3:22.9\n",
      "  400   7600 -1.499039920069537e+03 1.5e+00 7.21e-01  7e-01  7e-01 3:33.7\n",
      "  444   8436 -1.581742840370075e+03 1.6e+00 8.20e-01  8e-01  8e-01 3:57.2\n",
      "  489   9291 -1.544395310134531e+03 1.6e+00 8.26e-01  8e-01  9e-01 4:21.4\n",
      "  500   9500 -1.654611024877267e+03 1.6e+00 8.22e-01  8e-01  8e-01 4:27.5\n",
      "  549  10431 -1.650942293569569e+03 1.6e+00 7.58e-01  7e-01  8e-01 4:53.7\n",
      "  599  11381 -1.660921818472908e+03 1.6e+00 6.81e-01  7e-01  7e-01 5:20.9\n",
      "  600  11400 -1.563184683191446e+03 1.6e+00 6.81e-01  7e-01  7e-01 5:21.5\n",
      "  655  12445 -1.592747943993177e+03 1.6e+00 6.31e-01  6e-01  7e-01 5:50.9\n",
      "  700  13300 -1.620533599025639e+03 1.7e+00 6.48e-01  6e-01  7e-01 6:15.0\n",
      "  758  14402 -1.506060772347101e+03 1.7e+00 7.35e-01  7e-01  8e-01 6:46.3\n",
      "  800  15200 -1.645614717112795e+03 1.7e+00 6.87e-01  7e-01  7e-01 7:09.3\n",
      "  862  16378 -1.487264398777442e+03 1.7e+00 6.70e-01  7e-01  7e-01 7:42.5\n",
      "  900  17100 -1.688587033454729e+03 1.7e+00 6.58e-01  6e-01  7e-01 8:02.5\n",
      "  965  18335 -1.504981748437437e+03 1.7e+00 7.27e-01  7e-01  8e-01 8:37.6\n",
      " 1000  19000 -1.625541496489994e+03 1.7e+00 8.02e-01  8e-01  8e-01 8:56.5\n",
      "Iterat #Fevals   function value  axis ratio  sigma  min&max std  t[m:s]\n",
      " 1070  20330 -1.655960943017936e+03 1.7e+00 7.08e-01  7e-01  7e-01 9:33.9\n",
      " 1100  20900 -1.629237868468914e+03 1.7e+00 7.07e-01  7e-01  7e-01 9:48.9\n",
      " 1173  22287 -1.579035059606776e+03 1.7e+00 7.35e-01  7e-01  8e-01 10:28.2\n",
      " 1200  22800 -1.533988676906312e+03 1.7e+00 7.60e-01  7e-01  8e-01 10:42.7\n",
      " 1279  24301 -1.535082838478178e+03 1.7e+00 7.91e-01  8e-01  8e-01 11:24.1\n",
      " 1300  24700 -1.473252968403453e+03 1.7e+00 7.53e-01  7e-01  8e-01 11:35.4\n",
      " 1380  26220 -1.583121723206860e+03 1.8e+00 7.17e-01  7e-01  8e-01 12:18.6\n",
      " 1400  26600 -1.579819580847813e+03 1.8e+00 7.47e-01  7e-01  8e-01 12:29.7\n",
      " 1478  28082 -1.703283426451398e+03 1.8e+00 7.27e-01  7e-01  8e-01 13:14.7\n",
      " 1500  28500 -1.653918083146602e+03 1.8e+00 7.47e-01  7e-01  8e-01 13:27.1\n",
      " 1584  30096 -1.607120855417413e+03 1.8e+00 7.28e-01  7e-01  8e-01 14:14.6\n",
      " 1600  30400 -1.579115775831379e+03 1.8e+00 7.10e-01  7e-01  8e-01 14:23.8\n",
      " 1686  32034 -1.545379520687049e+03 1.8e+00 8.07e-01  8e-01  9e-01 15:12.8\n",
      " 1700  32300 -1.549355262682186e+03 1.8e+00 7.89e-01  8e-01  8e-01 15:20.4\n",
      " 1788  33972 -1.756507809671526e+03 1.8e+00 7.20e-01  7e-01  8e-01 16:11.6\n",
      " 1800  34200 -1.614683000387729e+03 1.8e+00 7.25e-01  7e-01  8e-01 16:18.4\n",
      " 1896  36024 -1.588494993751286e+03 1.9e+00 6.99e-01  7e-01  8e-01 17:11.5\n",
      " 1900  36100 -1.577039279259044e+03 1.9e+00 7.10e-01  7e-01  8e-01 17:13.6\n",
      " 2000  38000 -1.707113712362182e+03 1.9e+00 8.87e-01  9e-01  9e-01 18:06.7\n",
      "Iterat #Fevals   function value  axis ratio  sigma  min&max std  t[m:s]\n",
      " 2100  39900 -1.545156633163142e+03 2.0e+00 1.12e+00  1e+00  1e+00 19:01.0\n",
      " 2200  41800 -1.699889876127639e+03 2.0e+00 1.17e+00  1e+00  1e+00 19:57.1\n",
      " 2300  43700 -1.744171751158780e+03 2.0e+00 1.14e+00  1e+00  1e+00 20:52.8\n",
      " 2400  45600 -1.672704516731158e+03 2.1e+00 9.66e-01  9e-01  1e+00 21:48.3\n",
      " 2500  47500 -1.590880882995565e+03 2.1e+00 9.90e-01  1e+00  1e+00 22:44.8\n",
      " 2600  49400 -1.596014006275989e+03 2.1e+00 8.17e-01  8e-01  9e-01 23:41.7\n",
      " 2700  51300 -1.626819186521787e+03 2.1e+00 7.38e-01  7e-01  8e-01 24:38.3\n",
      " 2800  53200 -1.819044152775315e+03 2.1e+00 7.41e-01  7e-01  8e-01 25:33.6\n",
      " 2900  55100 -1.565518798781165e+03 2.1e+00 7.63e-01  7e-01  8e-01 26:28.2\n",
      " 3000  57000 -1.507052378730342e+03 2.1e+00 7.49e-01  7e-01  8e-01 27:22.9\n",
      "Iterat #Fevals   function value  axis ratio  sigma  min&max std  t[m:s]\n",
      " 3100  58900 -1.570715231906176e+03 2.1e+00 6.73e-01  6e-01  7e-01 28:17.8\n",
      " 3200  60800 -1.519756187560947e+03 2.1e+00 6.11e-01  6e-01  7e-01 29:16.2\n",
      " 3300  62700 -1.569085281754067e+03 2.2e+00 7.20e-01  7e-01  8e-01 30:13.4\n",
      " 3400  64600 -1.600723711738830e+03 2.2e+00 6.93e-01  7e-01  7e-01 31:08.3\n",
      " 3500  66500 -1.584059615947672e+03 2.3e+00 7.42e-01  7e-01  8e-01 32:02.9\n",
      " 3600  68400 -1.675047736851253e+03 2.3e+00 6.11e-01  6e-01  7e-01 32:58.4\n",
      " 3700  70300 -1.497134373393740e+03 2.3e+00 6.75e-01  6e-01  7e-01 33:53.0\n",
      " 3800  72200 -1.559848427113803e+03 2.3e+00 6.43e-01  6e-01  7e-01 34:50.2\n",
      " 3900  74100 -1.594138909869697e+03 2.3e+00 5.97e-01  6e-01  6e-01 35:46.5\n",
      " 4000  76000 -1.494260630361563e+03 2.4e+00 6.47e-01  6e-01  7e-01 36:42.6\n",
      "Iterat #Fevals   function value  axis ratio  sigma  min&max std  t[m:s]\n",
      " 4100  77900 -1.524075406859985e+03 2.4e+00 6.91e-01  6e-01  7e-01 37:37.5\n",
      " 4200  79800 -1.511109273036228e+03 2.4e+00 7.27e-01  7e-01  8e-01 38:32.1\n",
      " 4300  81700 -1.575277153612815e+03 2.4e+00 7.19e-01  7e-01  8e-01 39:29.5\n",
      " 4400  83600 -1.688892517764658e+03 2.4e+00 6.94e-01  7e-01  8e-01 40:26.0\n",
      " 4500  85500 -1.680957801159473e+03 2.5e+00 6.37e-01  6e-01  7e-01 41:21.5\n",
      " 4600  87400 -1.725039604726421e+03 2.5e+00 6.72e-01  6e-01  7e-01 42:15.5\n",
      " 4700  89300 -1.763087685141766e+03 2.5e+00 7.02e-01  7e-01  8e-01 43:11.2\n",
      " 4800  91200 -1.566488574269561e+03 2.5e+00 7.19e-01  7e-01  8e-01 44:06.0\n",
      " 4900  93100 -1.504029498968871e+03 2.5e+00 8.08e-01  8e-01  9e-01 45:02.1\n",
      " 5000  95000 -1.479962396503145e+03 2.6e+00 7.83e-01  7e-01  9e-01 46:03.8\n",
      "Iterat #Fevals   function value  axis ratio  sigma  min&max std  t[m:s]\n",
      " 5100  96900 -1.549679564732539e+03 2.6e+00 9.19e-01  9e-01  1e+00 47:03.2\n",
      " 5200  98800 -1.549383909117275e+03 2.6e+00 8.84e-01  8e-01  1e+00 48:02.5\n",
      " 5300 100700 -1.687074064292712e+03 2.6e+00 1.08e+00  1e+00  1e+00 49:05.6\n",
      " 5400 102600 -1.515160928716777e+03 2.7e+00 1.14e+00  1e+00  1e+00 50:03.6\n",
      " 5500 104500 -1.365490262736524e+03 2.7e+00 1.26e+00  1e+00  1e+00 50:59.3\n",
      " 5600 106400 -1.575240806373580e+03 2.7e+00 1.38e+00  1e+00  2e+00 51:57.3\n",
      " 5700 108300 -1.564066901418020e+03 2.7e+00 1.45e+00  1e+00  2e+00 52:58.7\n",
      " 5800 110200 -1.739480273273988e+03 2.7e+00 1.76e+00  2e+00  2e+00 53:59.1\n",
      " 5900 112100 -1.640871022001399e+03 2.7e+00 2.04e+00  2e+00  2e+00 55:03.4\n",
      " 6000 114000 -1.457105106475262e+03 2.7e+00 1.76e+00  2e+00  2e+00 56:12.7\n",
      "Iterat #Fevals   function value  axis ratio  sigma  min&max std  t[m:s]\n",
      " 6100 115900 -1.580867694037154e+03 2.7e+00 1.82e+00  2e+00  2e+00 57:15.2\n",
      " 6200 117800 -1.502567938681002e+03 2.8e+00 1.94e+00  2e+00  2e+00 58:17.4\n",
      " 6300 119700 -1.597459099318716e+03 2.8e+00 1.61e+00  2e+00  2e+00 59:17.7\n",
      " 6400 121600 -1.699498481310351e+03 2.8e+00 1.86e+00  2e+00  2e+00 60:17.6\n",
      " 6500 123500 -1.628118595750566e+03 2.8e+00 1.64e+00  2e+00  2e+00 61:16.3\n",
      " 6600 125400 -1.737137401410260e+03 2.8e+00 1.68e+00  2e+00  2e+00 62:14.9\n",
      " 6700 127300 -1.670552980381769e+03 2.9e+00 1.77e+00  2e+00  2e+00 63:17.3\n",
      " 6800 129200 -1.487564255337257e+03 2.9e+00 1.68e+00  2e+00  2e+00 64:18.3\n",
      " 6900 131100 -1.530682715084427e+03 2.9e+00 1.39e+00  1e+00  2e+00 65:19.1\n",
      " 7000 133000 -1.407423371988363e+03 2.9e+00 1.45e+00  1e+00  2e+00 66:21.1\n",
      "Iterat #Fevals   function value  axis ratio  sigma  min&max std  t[m:s]\n",
      " 7100 134900 -1.549255665856574e+03 2.9e+00 1.29e+00  1e+00  1e+00 67:25.3\n",
      " 7200 136800 -1.595655804712866e+03 2.9e+00 1.01e+00  9e-01  1e+00 68:26.5\n",
      " 7300 138700 -1.454371595433697e+03 2.9e+00 1.07e+00  1e+00  1e+00 69:29.8\n",
      " 7400 140600 -1.463232449747504e+03 3.0e+00 1.06e+00  1e+00  1e+00 70:31.7\n",
      " 7500 142500 -1.653105960437237e+03 3.0e+00 8.75e-01  8e-01  1e+00 71:33.6\n",
      " 7600 144400 -1.723337202371002e+03 3.0e+00 8.83e-01  8e-01  1e+00 72:33.7\n",
      " 7700 146300 -1.603024045007952e+03 3.0e+00 8.06e-01  7e-01  9e-01 73:36.7\n",
      " 7800 148200 -1.626433345335818e+03 3.0e+00 8.01e-01  7e-01  9e-01 74:39.7\n",
      " 7900 150100 -1.581051219785489e+03 3.0e+00 8.82e-01  8e-01  1e+00 75:47.3\n",
      " 8000 152000 -1.626061695025380e+03 3.0e+00 9.24e-01  9e-01  1e+00 76:49.1\n",
      "Iterat #Fevals   function value  axis ratio  sigma  min&max std  t[m:s]\n",
      " 8100 153900 -1.510661847792862e+03 3.0e+00 9.83e-01  9e-01  1e+00 77:48.6\n",
      " 8200 155800 -1.546798180482582e+03 3.0e+00 9.87e-01  9e-01  1e+00 78:46.8\n",
      " 8300 157700 -1.546546665084570e+03 3.1e+00 8.82e-01  8e-01  1e+00 79:44.5\n",
      " 8400 159600 -1.649778802992468e+03 3.1e+00 9.81e-01  9e-01  1e+00 80:44.1\n",
      " 8500 161500 -1.714701557469902e+03 3.1e+00 1.01e+00  9e-01  1e+00 81:43.1\n",
      " 8600 163400 -1.778381803404599e+03 3.1e+00 1.16e+00  1e+00  1e+00 82:41.2\n",
      " 8700 165300 -1.508943078966501e+03 3.2e+00 1.19e+00  1e+00  1e+00 83:39.5\n",
      " 8800 167200 -1.466936222123106e+03 3.2e+00 1.17e+00  1e+00  1e+00 84:38.8\n",
      " 8900 169100 -1.686745043393072e+03 3.2e+00 9.62e-01  9e-01  1e+00 85:37.1\n",
      " 9000 171000 -1.565203796811235e+03 3.2e+00 9.60e-01  9e-01  1e+00 86:34.9\n",
      "Iterat #Fevals   function value  axis ratio  sigma  min&max std  t[m:s]\n",
      " 9100 172900 -1.551051211517242e+03 3.2e+00 8.94e-01  8e-01  1e+00 87:31.9\n",
      " 9200 174800 -1.638407861215785e+03 3.2e+00 8.19e-01  8e-01  9e-01 88:29.8\n",
      " 9300 176700 -1.589151676727453e+03 3.3e+00 9.32e-01  9e-01  1e+00 89:25.2\n",
      " 9400 178600 -1.722494901350252e+03 3.3e+00 9.98e-01  9e-01  1e+00 90:22.9\n",
      " 9500 180500 -1.507130751440233e+03 3.3e+00 1.02e+00  9e-01  1e+00 91:19.0\n",
      " 9600 182400 -1.531448016619589e+03 3.3e+00 1.05e+00  1e+00  1e+00 92:15.4\n",
      " 9700 184300 -1.550812319158378e+03 3.3e+00 1.07e+00  1e+00  1e+00 93:08.8\n",
      " 9800 186200 -1.584114381392316e+03 3.3e+00 1.22e+00  1e+00  1e+00 94:03.6\n",
      " 9865 187435 -1.688086610612993e+03 3.4e+00 1.04e+00  9e-01  1e+00 94:38.2\n"
     ]
    }
   ],
   "source": [
    "es = cma.CMAEvolutionStrategy(agent.num_params * [0], 1)\n",
    "\n",
    "es.optimize(evaluate);"
   ]
  },
  {
   "cell_type": "code",
   "execution_count": null,
   "metadata": {},
   "outputs": [],
   "source": [
    "evaluate(es.best.get()[0])"
   ]
  },
  {
   "cell_type": "code",
   "execution_count": null,
   "metadata": {},
   "outputs": [],
   "source": []
  },
  {
   "cell_type": "code",
   "execution_count": null,
   "metadata": {},
   "outputs": [],
   "source": []
  }
 ],
 "metadata": {
  "kernelspec": {
   "display_name": "Python [conda env:pendulum_v0_py3]",
   "language": "python",
   "name": "conda-env-pendulum_v0_py3-py"
  },
  "language_info": {
   "codemirror_mode": {
    "name": "ipython",
    "version": 3
   },
   "file_extension": ".py",
   "mimetype": "text/x-python",
   "name": "python",
   "nbconvert_exporter": "python",
   "pygments_lexer": "ipython3",
   "version": "3.6.2"
  }
 },
 "nbformat": 4,
 "nbformat_minor": 2
}
