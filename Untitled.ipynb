{
 "cells": [
  {
   "cell_type": "code",
   "execution_count": 11,
   "metadata": {},
   "outputs": [],
   "source": [
    "from core.agents import MLP\n",
    "\n",
    "_ = MLP(3,1,[4])"
   ]
  },
  {
   "cell_type": "code",
   "execution_count": 12,
   "metadata": {},
   "outputs": [
    {
     "data": {
      "text/plain": [
       "array([-0.89111678,  0.58309562])"
      ]
     },
     "execution_count": 12,
     "metadata": {},
     "output_type": "execute_result"
    }
   ],
   "source": [
    "_.bias"
   ]
  },
  {
   "cell_type": "code",
   "execution_count": 26,
   "metadata": {},
   "outputs": [
    {
     "data": {
      "text/plain": [
       "array([-0.97708769])"
      ]
     },
     "execution_count": 26,
     "metadata": {},
     "output_type": "execute_result"
    }
   ],
   "source": [
    "_.percieve(np.array([-10,-1,-1]))"
   ]
  },
  {
   "cell_type": "code",
   "execution_count": 3,
   "metadata": {},
   "outputs": [
    {
     "name": "stdout",
     "output_type": "stream",
     "text": [
      "18\n",
      "[ 0.89966617 -0.61471407  0.64684867  0.25397133 -0.84331972 -0.30073553\n",
      " -0.96185087 -0.0151144  -0.24967666  0.46487455 -0.005932   -0.25500535\n",
      " -0.50976658 -0.64053499  0.01982662  0.60761408  0.04822615  0.49379551]\n",
      "18\n",
      "[0. 0. 0. 0. 0. 0. 0. 0. 0. 0. 0. 0. 0. 0. 0. 0. 1. 2.]\n"
     ]
    }
   ],
   "source": [
    "print(_.num_params)\n",
    "print(_.get_weights())\n",
    "import numpy as np\n",
    "_.set_weights(np.concatenate([np.zeros([16]),np.array([1,2])]))\n",
    "print(len(_.get_weights()))\n",
    "print(_.get_weights())"
   ]
  },
  {
   "cell_type": "code",
   "execution_count": 74,
   "metadata": {},
   "outputs": [
    {
     "data": {
      "text/plain": [
       "[1, 2, 3]"
      ]
     },
     "execution_count": 74,
     "metadata": {},
     "output_type": "execute_result"
    }
   ],
   "source": [
    "[_ for _ in np.array([1,2,3])[-2]]"
   ]
  },
  {
   "cell_type": "code",
   "execution_count": 79,
   "metadata": {},
   "outputs": [
    {
     "name": "stdout",
     "output_type": "stream",
     "text": [
      "[1. 1. 1. 1. 1. 1. 0. 0. 0.]\n"
     ]
    }
   ],
   "source": [
    "weights = [np.ones([2,1]) for _ in range(3)]\n",
    "bias = np.zeros([3])\n",
    "\n",
    "rollout = [w.reshape(-1) for w in weights] + [bias]\n",
    "rollout = np.concatenate(rollout)\n",
    "print(rollout)"
   ]
  },
  {
   "cell_type": "code",
   "execution_count": 61,
   "metadata": {},
   "outputs": [
    {
     "name": "stdout",
     "output_type": "stream",
     "text": [
      "(5, 3)\n",
      "first [[2.47226196 3.54841436 3.77057703]]\n",
      "second [[2.47226196 3.54841436 3.77057703]]\n",
      "True\n",
      "(4,)\n",
      "1.5\n"
     ]
    }
   ],
   "source": [
    "w = np.random.rand(4,3)\n",
    "x = np.ones([1,4])\n",
    "\n",
    "x_1 = np.concatenate([x,np.ones([x.shape[0],1])],1)\n",
    "w_1 = np.concatenate([w,np.ones([1,3])],0)\n",
    "print(w_1.shape)\n",
    "y_1 = np.matmul(x_1,w_1)\n",
    "print('first %s' % y_1)\n",
    "y_2 = np.matmul(x,w) + 1\n",
    "print('second %s' % y_1)\n",
    "\n",
    "print(np.alltrue(y_1 == y_2))\n",
    "\n",
    "w = np.array([.1,.2,.3,.4])\n",
    "x = np.ones([4])\n",
    "print(x.shape)\n",
    "print(np.matmul(x, w) + 0.5)"
   ]
  },
  {
   "cell_type": "code",
   "execution_count": 23,
   "metadata": {},
   "outputs": [
    {
     "name": "stdout",
     "output_type": "stream",
     "text": [
      "(1, 3)\n",
      "(1,)\n"
     ]
    }
   ],
   "source": [
    "import numpy as np\n",
    "\n",
    "weights = [np.ones([4,3]),np.ones([4,1])]\n",
    "prev_node = np.array([1,2,3])[None]\n",
    "print(prev_node.shape)\n",
    "for w in weights:\n",
    "    prev_node = np.matmul(np.append(prev_node, 1), w)\n",
    "    prev_node = np.tanh(prev_node)\n",
    "print(prev_node.shape)"
   ]
  },
  {
   "cell_type": "code",
   "execution_count": 1,
   "metadata": {},
   "outputs": [
    {
     "name": "stderr",
     "output_type": "stream",
     "text": [
      "[2018-04-23 00:07:17,104] Making new env: Pendulum-v0\n",
      "[2018-04-23 00:07:17,124] Making new env: Pendulum-v0\n"
     ]
    }
   ],
   "source": [
    "import gym\n",
    "import numpy as np\n",
    "\n",
    "env_to_use = 'Pendulum-v0'\n",
    "env = gym.make(env_to_use)\n",
    "state_dim = np.prod(np.array(\n",
    "    [env.observation_space.shape]))  # Get total number of dimensions in state\n",
    "action_dim = np.prod(\n",
    "    np.array([env.action_space.shape]))  # Assuming continuous action space\n",
    "env = gym.make('Pendulum-v0')\n"
   ]
  },
  {
   "cell_type": "code",
   "execution_count": 15,
   "metadata": {},
   "outputs": [
    {
     "name": "stdout",
     "output_type": "stream",
     "text": [
      "-1126.6801757880871\n"
     ]
    }
   ],
   "source": [
    "episodes = 1\n",
    "zero = np.array([0])\n",
    "observations = np.zeros([201,3])\n",
    "score = 0\n",
    "for i_episode in range(episodes):\n",
    "    \n",
    "    prev_observation = env.reset()\n",
    "    observations[0,:] = prev_observation\n",
    "    for t in range(400):\n",
    "        env.render()\n",
    "        action = env.action_space.sample()\n",
    "        observation, reward, done, info = env.step(zero)\n",
    "        score += reward\n",
    "        prev_observation = observation\n",
    "        observations[t+1,:] = prev_observation\n",
    "        if done:\n",
    "            break\n",
    "            \n",
    "print(score)"
   ]
  },
  {
   "cell_type": "code",
   "execution_count": 4,
   "metadata": {},
   "outputs": [],
   "source": [
    "# replay_buffer = deque()\n",
    "\n",
    "episodes = 1\n",
    "zero = np.array([0.1])\n",
    "observations = np.zeros([201,3])\n",
    "\n",
    "for i_episode in range(episodes):\n",
    "    prev_observation = env.reset()\n",
    "    observations[0,:] = prev_observation\n",
    "    for t in range(400):\n",
    "        env.render()\n",
    "#         print(prev_observation)\n",
    "        action = env.action_space.sample()\n",
    "        observation, reward, done, info = env.step(zero)\n",
    "#         replay_buffer.append((prev_observation, action, observation, reward, done))\n",
    "        prev_observation = observation\n",
    "        observations[t+1,:] = prev_observation\n",
    "        if done:\n",
    "#             print(\"Episode finished after {} timesteps\".format(t+1))\n",
    "            break\n",
    "            \n",
    "env.close()"
   ]
  },
  {
   "cell_type": "code",
   "execution_count": 5,
   "metadata": {},
   "outputs": [
    {
     "data": {
      "text/plain": [
       "array([0.85243679, 0.58066825])"
      ]
     },
     "execution_count": 5,
     "metadata": {},
     "output_type": "execute_result"
    }
   ],
   "source": [
    "np.random.uniform([-1,-1],[1,1])"
   ]
  },
  {
   "cell_type": "code",
   "execution_count": 12,
   "metadata": {},
   "outputs": [],
   "source": [
    "from gym.utils import seeding"
   ]
  },
  {
   "cell_type": "code",
   "execution_count": 20,
   "metadata": {},
   "outputs": [
    {
     "name": "stdout",
     "output_type": "stream",
     "text": [
      "[2.63638806 1.01052467]\n"
     ]
    }
   ],
   "source": [
    "a, b = seeding.np_random(None)\n",
    "print(a.uniform([2,1],[4,2]))"
   ]
  },
  {
   "cell_type": "code",
   "execution_count": 11,
   "metadata": {},
   "outputs": [
    {
     "data": {
      "text/plain": [
       "2.5"
      ]
     },
     "execution_count": 11,
     "metadata": {},
     "output_type": "execute_result"
    }
   ],
   "source": [
    "np.arccos(np.cos(1))\n",
    "np.arcsin(np.sin(1))\n",
    "np.average([1,4])"
   ]
  },
  {
   "cell_type": "code",
   "execution_count": 9,
   "metadata": {},
   "outputs": [
    {
     "data": {
      "text/plain": [
       "array([[3]])"
      ]
     },
     "execution_count": 9,
     "metadata": {},
     "output_type": "execute_result"
    }
   ],
   "source": [
    "(state_dim[None,None])"
   ]
  },
  {
   "cell_type": "code",
   "execution_count": 11,
   "metadata": {},
   "outputs": [],
   "source": [
    "from collections import deque\n",
    "import tensorflow as tf\n",
    "import gym\n",
    "from collections import deque"
   ]
  },
  {
   "cell_type": "code",
   "execution_count": 12,
   "metadata": {},
   "outputs": [
    {
     "name": "stderr",
     "output_type": "stream",
     "text": [
      "[2018-04-08 17:55:57,239] Making new env: Pendulum-v0\n"
     ]
    }
   ],
   "source": [
    "replay_buffer = deque()\n",
    "\n",
    "episodes = 1\n",
    "env = gym.make('Pendulum-v0')\n",
    "\n",
    "for i_episode in range(episodes):\n",
    "    prev_observation = env.reset()\n",
    "    \n",
    "    for t in range(400):\n",
    "#         env.render()\n",
    "#         print(prev_observation)\n",
    "        action = env.action_space.sample()\n",
    "        observation, reward, done, info = env.step(action)\n",
    "        replay_buffer.append((prev_observation, action, observation, reward, done))\n",
    "        prev_observation = observation\n",
    "        if done:\n",
    "#             print(\"Episode finished after {} timesteps\".format(t+1))\n",
    "            break\n",
    "            \n",
    "env.close()"
   ]
  },
  {
   "cell_type": "code",
   "execution_count": 39,
   "metadata": {},
   "outputs": [
    {
     "name": "stdout",
     "output_type": "stream",
     "text": [
      "[[7 8 9 7 8 9 7 8 9 4 5 6 4 5 6 4 5 6 1 2 3 1 2 3 1 2 3]]\n"
     ]
    }
   ],
   "source": [
    "a = np.array([[1,2,3],[1,2,3],[1,2,3]]).reshape((1,-1))\n",
    "b = np.array([[4,5,6],[4,5,6],[4,5,6]]).reshape((1,-1))\n",
    "c = np.array([[7,8,9],[7,8,9],[7,8,9]]).reshape((1,-1))\n",
    "d = np.concatenate((c,b,a),0)\n",
    "d = d.reshape([1,-1])\n",
    "print(d)"
   ]
  },
  {
   "cell_type": "code",
   "execution_count": 37,
   "metadata": {},
   "outputs": [
    {
     "data": {
      "text/plain": [
       "[3, 2, 1, 0]"
      ]
     },
     "execution_count": 37,
     "metadata": {},
     "output_type": "execute_result"
    }
   ],
   "source": [
    "list(range(4-1,-1,-1))"
   ]
  },
  {
   "cell_type": "markdown",
   "metadata": {},
   "source": [
    "## Save Deque"
   ]
  },
  {
   "cell_type": "code",
   "execution_count": null,
   "metadata": {},
   "outputs": [],
   "source": [
    "import pickle\n",
    "\n",
    "with open('./tests/data/replay_buffer.pkl', 'wb') as file:\n",
    "    pickle.dump(replay_buffer, file)\n",
    "\n",
    "with open('./tests/data/replay_buffer.pkl', 'rb') as file:\n",
    "    new_buff = pickle.load(file)"
   ]
  },
  {
   "cell_type": "code",
   "execution_count": 41,
   "metadata": {},
   "outputs": [
    {
     "data": {
      "text/plain": [
       "(array([-0.04890537, -0.99880342, -0.16620722]),\n",
       " array([0.25876161]),\n",
       " array([-0.09261674, -0.99570183, -0.87649554]),\n",
       " -2.6263262406453465,\n",
       " False)"
      ]
     },
     "execution_count": 41,
     "metadata": {},
     "output_type": "execute_result"
    }
   ],
   "source": [
    "replay_buffer[0]"
   ]
  },
  {
   "cell_type": "code",
   "execution_count": 44,
   "metadata": {},
   "outputs": [
    {
     "name": "stdout",
     "output_type": "stream",
     "text": [
      "False\n"
     ]
    }
   ],
   "source": [
    "from collections import defaultdict\n",
    "_ = defaultdict(bool)\n",
    "_['hi']\n",
    "print(bool(0))"
   ]
  },
  {
   "cell_type": "code",
   "execution_count": null,
   "metadata": {},
   "outputs": [],
   "source": [
    "x1 = tf.placeholder(tf.float32, dtype=np.array(env.action_space.shape)[\n",
    "                                     None],\n",
    "                                 name='motor_input')"
   ]
  },
  {
   "cell_type": "code",
   "execution_count": 43,
   "metadata": {},
   "outputs": [
    {
     "data": {
      "text/plain": [
       "list"
      ]
     },
     "execution_count": 43,
     "metadata": {},
     "output_type": "execute_result"
    }
   ],
   "source": [
    "import random\n",
    "type(random.sample([1,2,3,4,5,6,7,8],6))"
   ]
  },
  {
   "cell_type": "code",
   "execution_count": 46,
   "metadata": {},
   "outputs": [
    {
     "name": "stdout",
     "output_type": "stream",
     "text": [
      "3\n"
     ]
    }
   ],
   "source": [
    "num=9\n",
    "if 30%num and 30:\n",
    "    print(30%num)"
   ]
  },
  {
   "cell_type": "code",
   "execution_count": 60,
   "metadata": {},
   "outputs": [],
   "source": [
    "random.seed(None)"
   ]
  },
  {
   "cell_type": "code",
   "execution_count": 61,
   "metadata": {},
   "outputs": [
    {
     "data": {
      "text/plain": [
       "[6, 2, 8, 3, 1, 5]"
      ]
     },
     "execution_count": 61,
     "metadata": {},
     "output_type": "execute_result"
    }
   ],
   "source": [
    "random.sample([1,2,3,4,5,6,7,8],6)"
   ]
  },
  {
   "cell_type": "code",
   "execution_count": 1,
   "metadata": {},
   "outputs": [],
   "source": [
    "import tensorflow as tf"
   ]
  },
  {
   "cell_type": "code",
   "execution_count": 2,
   "metadata": {},
   "outputs": [],
   "source": [
    "w_a = tf.get_variable('w_a',dtype=tf.float16,shape=[3],)\n"
   ]
  },
  {
   "cell_type": "code",
   "execution_count": 23,
   "metadata": {},
   "outputs": [
    {
     "name": "stdout",
     "output_type": "stream",
     "text": [
      "[-0.953 -0.924  0.547]\n"
     ]
    }
   ],
   "source": [
    "with tf.Session() as sess:\n",
    "    tf.set_random_seed(4)\n",
    "    sess.run(tf.global_variables_initializer())\n",
    "    print(w_a.eval())"
   ]
  },
  {
   "cell_type": "code",
   "execution_count": 24,
   "metadata": {},
   "outputs": [
    {
     "data": {
      "text/plain": [
       "3"
      ]
     },
     "execution_count": 24,
     "metadata": {},
     "output_type": "execute_result"
    }
   ],
   "source": [
    "round(3.4)"
   ]
  },
  {
   "cell_type": "code",
   "execution_count": 25,
   "metadata": {},
   "outputs": [
    {
     "data": {
      "text/plain": [
       "4"
      ]
     },
     "execution_count": 25,
     "metadata": {},
     "output_type": "execute_result"
    }
   ],
   "source": [
    "import math\n",
    "math.ceil(3.2)"
   ]
  },
  {
   "cell_type": "code",
   "execution_count": 31,
   "metadata": {},
   "outputs": [
    {
     "data": {
      "text/plain": [
       "4"
      ]
     },
     "execution_count": 31,
     "metadata": {},
     "output_type": "execute_result"
    }
   ],
   "source": [
    "math.ceil(100/32)"
   ]
  },
  {
   "cell_type": "code",
   "execution_count": 33,
   "metadata": {},
   "outputs": [
    {
     "data": {
      "text/plain": [
       "22"
      ]
     },
     "execution_count": 33,
     "metadata": {},
     "output_type": "execute_result"
    }
   ],
   "source": [
    "(10+1) * 2"
   ]
  },
  {
   "cell_type": "code",
   "execution_count": 41,
   "metadata": {},
   "outputs": [
    {
     "name": "stdout",
     "output_type": "stream",
     "text": [
      "[[0.73452255 0.47294342 0.6848301  0.86043885]\n",
      " [0.56001889 0.57642396 0.06052902 0.49867621]\n",
      " [0.89771602 0.15608499 0.0672926  0.26918403]\n",
      " [0.76891305 0.3879774  0.69338762 0.79121302]]\n",
      "\n",
      "[[0.56001889 0.57642396 0.06052902 0.49867621]\n",
      " [0.76891305 0.3879774  0.69338762 0.79121302]]\n"
     ]
    }
   ],
   "source": [
    "import numpy as np\n",
    "x =np.random. rand(4,4)\n",
    "print(x)\n",
    "print()\n",
    "print(x[[1,3],:])"
   ]
  },
  {
   "cell_type": "code",
   "execution_count": 44,
   "metadata": {},
   "outputs": [
    {
     "data": {
      "text/plain": [
       "array([[1, 2, 3, 4, 5, 6, 7, 8, 9, 0]])"
      ]
     },
     "execution_count": 44,
     "metadata": {},
     "output_type": "execute_result"
    }
   ],
   "source": [
    "x = np.array([1,2,3,4,5])[None]\n",
    "y = np.array([6,7,8,9,0])[None]\n",
    "np.concatenate([x,y],1)"
   ]
  },
  {
   "cell_type": "code",
   "execution_count": 6,
   "metadata": {},
   "outputs": [],
   "source": [
    "import numpy as np\n",
    "from narx import NARX\n",
    "import tensorflow as tf"
   ]
  },
  {
   "cell_type": "code",
   "execution_count": 2,
   "metadata": {},
   "outputs": [],
   "source": [
    "num_prev_inputs = 4\n",
    "obs_size = 3\n",
    "act_size = 1\n",
    "\n",
    "x_1 = tf.placeholder(dtype=tf.float32,\n",
    "                         shape=[1,obs_size],\n",
    "                         name='x_1')\n",
    "x_2 = tf.placeholder(dtype=tf.float32,\n",
    "                         shape=[1,act_size],\n",
    "                         name='x_2')\n",
    "y = tf.placeholder(dtype=tf.float32,\n",
    "                       shape=[None,obs_size],\n",
    "                       name='y')\n",
    "\n",
    "queue_size = num_prev_inputs + 1\n",
    "learning_rate = 0.001\n",
    "nn = NARX(x_1, x_2, y, queue_size, [dict(units=20, activation=tf.nn.tanh, use_bias=True),\n",
    "                         dict(units=20, activation=tf.nn.tanh, use_bias=True)], learning_rate=learning_rate)"
   ]
  },
  {
   "cell_type": "code",
   "execution_count": 3,
   "metadata": {},
   "outputs": [],
   "source": [
    "sess = tf.InteractiveSession()"
   ]
  },
  {
   "cell_type": "code",
   "execution_count": 4,
   "metadata": {},
   "outputs": [],
   "source": [
    "tf.global_variables_initializer().run()"
   ]
  },
  {
   "cell_type": "code",
   "execution_count": 8,
   "metadata": {},
   "outputs": [
    {
     "name": "stdout",
     "output_type": "stream",
     "text": [
      "[[0. 0. 0. 0. 0. 0. 0. 0. 0. 1. 1. 1. 1. 1. 1. 0. 0. 0. 1. 1.]]\n"
     ]
    }
   ],
   "source": [
    "x_motor = np.ones([1,1])\n",
    "x_ob = np.ones([1,3])\n",
    "sess.run(nn.enqueue,feed_dict={nn.x_1:x_ob, nn.x_2:x_motor })\n",
    "print(nn.queue.eval())"
   ]
  },
  {
   "cell_type": "code",
   "execution_count": 45,
   "metadata": {},
   "outputs": [
    {
     "name": "stdout",
     "output_type": "stream",
     "text": [
      "[[0. 0. 0. 0. 0. 0. 0. 0. 0. 1. 1. 1. 1. 1. 1. 0. 0. 0. 1. 1.]]\n"
     ]
    }
   ],
   "source": [
    "x_motor = np.ones([1,1])*2\n",
    "x_ob = np.ones([1,3])*2\n",
    "sess.run(nn.enqueue,feed_dict={nn.queue_x_1:_[0], nn.queue_x_2:np.split(nn.queue.eval()})\n",
    "print(nn.queue.eval())"
   ]
  },
  {
   "cell_type": "code",
   "execution_count": 40,
   "metadata": {},
   "outputs": [],
   "source": [
    "_ = np.split(nn.queue.eval(),[15],axis=1)"
   ]
  },
  {
   "cell_type": "code",
   "execution_count": 37,
   "metadata": {},
   "outputs": [
    {
     "name": "stdout",
     "output_type": "stream",
     "text": [
      "[[0. 0. 0. 0. 0. 0. 0. 0. 0. 1. 1. 1. 1. 1. 1.]]\n",
      "[[0. 0. 0. 1. 1.]]\n"
     ]
    }
   ],
   "source": [
    "for __ in _:\n",
    "    print(__)"
   ]
  },
  {
   "cell_type": "code",
   "execution_count": 47,
   "metadata": {},
   "outputs": [
    {
     "name": "stdout",
     "output_type": "stream",
     "text": [
      "[[1. 1. 2.]\n",
      " [1. 1. 2.]\n",
      " [1. 1. 2.]\n",
      " [1. 1. 2.]]\n"
     ]
    }
   ],
   "source": [
    "a = np.array([[1,1,8],[1,1,8],[1,1,8],[1,1,8]])\n",
    "print(a/np.array([1,1,4]))"
   ]
  },
  {
   "cell_type": "code",
   "execution_count": 50,
   "metadata": {},
   "outputs": [
    {
     "data": {
      "text/plain": [
       "(None, array([[1., 1., 1.],\n",
       "        [1., 1., 1.],\n",
       "        [1., 1., 1.],\n",
       "        [1., 1., 1.]]))"
      ]
     },
     "execution_count": 50,
     "metadata": {},
     "output_type": "execute_result"
    }
   ],
   "source": [
    "def normalise(action=None, observation=None):\n",
    "    if action is not None:\n",
    "        action = action *np.array([2])\n",
    "    if observation is not None:\n",
    "        observation = observation / np.array([1,1,8])\n",
    "    return action, observation\n",
    "normalise(observation=a)"
   ]
  },
  {
   "cell_type": "code",
   "execution_count": 1,
   "metadata": {},
   "outputs": [],
   "source": [
    "from mpi4py import MPI"
   ]
  },
  {
   "cell_type": "code",
   "execution_count": 58,
   "metadata": {},
   "outputs": [
    {
     "name": "stdout",
     "output_type": "stream",
     "text": [
      "('training', 'What the fuc', 'I just want to know you')\n"
     ]
    }
   ],
   "source": [
    "def sprint(*args):\n",
    "  print(args) # if python3, can do print(*args)\n",
    "  sys.stdout.flush()\n",
    "    \n",
    "sprint(\"training\", \"What the fuc\", 'I just want to know you')"
   ]
  },
  {
   "cell_type": "code",
   "execution_count": 2,
   "metadata": {},
   "outputs": [],
   "source": [
    "### MPI related code\n",
    "comm = MPI.COMM_WORLD\n",
    "rank = comm.Get_rank()\n",
    "\n",
    "# PRECISION = 10000\n",
    "# SOLUTION_PACKET_SIZE = (5+num_params)*num_worker_trial\n",
    "# RESULT_PACKET_SIZE = 4*num_worker_trial\n",
    "###"
   ]
  },
  {
   "cell_type": "code",
   "execution_count": 3,
   "metadata": {},
   "outputs": [
    {
     "data": {
      "text/plain": [
       "0"
      ]
     },
     "execution_count": 3,
     "metadata": {},
     "output_type": "execute_result"
    }
   ],
   "source": [
    "rank"
   ]
  },
  {
   "cell_type": "code",
   "execution_count": 54,
   "metadata": {},
   "outputs": [
    {
     "name": "stdout",
     "output_type": "stream",
     "text": [
      "Loading...\n",
      "Finished\n"
     ]
    }
   ],
   "source": [
    "import sys\n",
    "import time\n",
    "\n",
    "a = 0  \n",
    "for x in range (0,3):  \n",
    "    a = a + 1  \n",
    "    b = (\"Loading\" + \".\" * a)\n",
    "    # \\r prints a carriage return first, so `b` is printed on top of the previous line.\n",
    "    sys.stdout.write('\\r'+b)\n",
    "    time.sleep(1)\n",
    "print('\\nFinished')"
   ]
  },
  {
   "cell_type": "code",
   "execution_count": 33,
   "metadata": {},
   "outputs": [
    {
     "data": {
      "text/plain": [
       "1"
      ]
     },
     "execution_count": 33,
     "metadata": {},
     "output_type": "execute_result"
    }
   ],
   "source": [
    "MPI.COMM_WORLD.Get_size()"
   ]
  },
  {
   "cell_type": "code",
   "execution_count": 43,
   "metadata": {},
   "outputs": [
    {
     "name": "stdout",
     "output_type": "stream",
     "text": [
      "1\n"
     ]
    }
   ],
   "source": [
    "\n",
    "comm = MPI.COMM_SELF\n",
    "rank = comm.Get_size()\n",
    "print(rank)"
   ]
  },
  {
   "cell_type": "code",
   "execution_count": 37,
   "metadata": {},
   "outputs": [
    {
     "name": "stdout",
     "output_type": "stream",
     "text": [
      "Help on class Comm in module mpi4py.MPI:\n",
      "\n",
      "class Comm(builtins.object)\n",
      " |  Communicator\n",
      " |  \n",
      " |  Methods defined here:\n",
      " |  \n",
      " |  Abort(...)\n",
      " |      Comm.Abort(self, int errorcode=0)\n",
      " |      \n",
      " |      Terminate MPI execution environment\n",
      " |      \n",
      " |      .. warning:: This is a direct call, use it with care!!!.\n",
      " |  \n",
      " |  Allgather(...)\n",
      " |      Comm.Allgather(self, sendbuf, recvbuf)\n",
      " |      \n",
      " |      Gather to All, gather data from all processes and\n",
      " |      distribute it to all other processes in a group\n",
      " |  \n",
      " |  Allgatherv(...)\n",
      " |      Comm.Allgatherv(self, sendbuf, recvbuf)\n",
      " |      \n",
      " |      Gather to All Vector, gather data from all processes and\n",
      " |      distribute it to all other processes in a group providing\n",
      " |      different amount of data and displacements\n",
      " |  \n",
      " |  Allreduce(...)\n",
      " |      Comm.Allreduce(self, sendbuf, recvbuf, Op op=SUM)\n",
      " |      \n",
      " |      All Reduce\n",
      " |  \n",
      " |  Alltoall(...)\n",
      " |      Comm.Alltoall(self, sendbuf, recvbuf)\n",
      " |      \n",
      " |      All to All Scatter/Gather, send data from all to all\n",
      " |      processes in a group\n",
      " |  \n",
      " |  Alltoallv(...)\n",
      " |      Comm.Alltoallv(self, sendbuf, recvbuf)\n",
      " |      \n",
      " |      All to All Scatter/Gather Vector, send data from all to all\n",
      " |      processes in a group providing different amount of data and\n",
      " |      displacements\n",
      " |  \n",
      " |  Alltoallw(...)\n",
      " |      Comm.Alltoallw(self, sendbuf, recvbuf)\n",
      " |      \n",
      " |      Generalized All-to-All communication allowing different\n",
      " |      counts, displacements and datatypes for each partner\n",
      " |  \n",
      " |  Barrier(...)\n",
      " |      Comm.Barrier(self)\n",
      " |      \n",
      " |      Barrier synchronization\n",
      " |  \n",
      " |  Bcast(...)\n",
      " |      Comm.Bcast(self, buf, int root=0)\n",
      " |      \n",
      " |      Broadcast a message from one process\n",
      " |      to all other processes in a group\n",
      " |  \n",
      " |  Bsend(...)\n",
      " |      Comm.Bsend(self, buf, int dest, int tag=0)\n",
      " |      \n",
      " |      Blocking send in buffered mode\n",
      " |  \n",
      " |  Bsend_init(...)\n",
      " |      Comm.Bsend_init(self, buf, int dest, int tag=0)\n",
      " |      \n",
      " |      Persistent request for a send in buffered mode\n",
      " |  \n",
      " |  Call_errhandler(...)\n",
      " |      Comm.Call_errhandler(self, int errorcode)\n",
      " |      \n",
      " |      Call the error handler installed on a communicator\n",
      " |  \n",
      " |  Clone(...)\n",
      " |      Comm.Clone(self)\n",
      " |      \n",
      " |      Clone an existing communicator\n",
      " |  \n",
      " |  Compare(...) from builtins.type\n",
      " |      Comm.Compare(type cls, Comm comm1, Comm comm2)\n",
      " |      \n",
      " |      Compare two communicators\n",
      " |  \n",
      " |  Create(...)\n",
      " |      Comm.Create(self, Group group)\n",
      " |      \n",
      " |      Create communicator from group\n",
      " |  \n",
      " |  Create_group(...)\n",
      " |      Comm.Create_group(self, Group group, int tag=0)\n",
      " |      \n",
      " |      Create communicator from group\n",
      " |  \n",
      " |  Create_keyval(...) from builtins.type\n",
      " |      Comm.Create_keyval(type cls, copy_fn=None, delete_fn=None)\n",
      " |      \n",
      " |      Create a new attribute key for communicators\n",
      " |  \n",
      " |  Delete_attr(...)\n",
      " |      Comm.Delete_attr(self, int keyval)\n",
      " |      \n",
      " |      Delete attribute value associated with a key\n",
      " |  \n",
      " |  Disconnect(...)\n",
      " |      Comm.Disconnect(self)\n",
      " |      \n",
      " |      Disconnect from a communicator\n",
      " |  \n",
      " |  Dup(...)\n",
      " |      Comm.Dup(self, Info info=None)\n",
      " |      \n",
      " |      Duplicate an existing communicator\n",
      " |  \n",
      " |  Dup_with_info(...)\n",
      " |      Comm.Dup_with_info(self, Info info)\n",
      " |      \n",
      " |      Duplicate an existing communicator\n",
      " |  \n",
      " |  Free(...)\n",
      " |      Comm.Free(self)\n",
      " |      \n",
      " |      Free a communicator\n",
      " |  \n",
      " |  Free_keyval(...) from builtins.type\n",
      " |      Comm.Free_keyval(type cls, int keyval)\n",
      " |      \n",
      " |      Free and attribute key for communicators\n",
      " |  \n",
      " |  Gather(...)\n",
      " |      Comm.Gather(self, sendbuf, recvbuf, int root=0)\n",
      " |      \n",
      " |      Gather together values from a group of processes\n",
      " |  \n",
      " |  Gatherv(...)\n",
      " |      Comm.Gatherv(self, sendbuf, recvbuf, int root=0)\n",
      " |      \n",
      " |      Gather Vector, gather data to one process from all other\n",
      " |      processes in a group providing different amount of data and\n",
      " |      displacements at the receiving sides\n",
      " |  \n",
      " |  Get_attr(...)\n",
      " |      Comm.Get_attr(self, int keyval)\n",
      " |      \n",
      " |      Retrieve attribute value by key\n",
      " |  \n",
      " |  Get_errhandler(...)\n",
      " |      Comm.Get_errhandler(self)\n",
      " |      \n",
      " |      Get the error handler for a communicator\n",
      " |  \n",
      " |  Get_group(...)\n",
      " |      Comm.Get_group(self)\n",
      " |      \n",
      " |      Access the group associated with a communicator\n",
      " |  \n",
      " |  Get_info(...)\n",
      " |      Comm.Get_info(self)\n",
      " |      \n",
      " |      Return the hints for a communicator\n",
      " |      that are currently in use\n",
      " |  \n",
      " |  Get_name(...)\n",
      " |      Comm.Get_name(self)\n",
      " |      \n",
      " |      Get the print name for this communicator\n",
      " |  \n",
      " |  Get_parent(...) from builtins.type\n",
      " |      Comm.Get_parent(type cls)\n",
      " |      \n",
      " |      Return the parent intercommunicator for this process\n",
      " |  \n",
      " |  Get_rank(...)\n",
      " |      Comm.Get_rank(self)\n",
      " |      \n",
      " |      Return the rank of this process in a communicator\n",
      " |  \n",
      " |  Get_size(...)\n",
      " |      Comm.Get_size(self)\n",
      " |      \n",
      " |      Return the number of processes in a communicator\n",
      " |  \n",
      " |  Get_topology(...)\n",
      " |      Comm.Get_topology(self)\n",
      " |      \n",
      " |      Determine the type of topology (if any)\n",
      " |      associated with a communicator\n",
      " |  \n",
      " |  Iallgather(...)\n",
      " |      Comm.Iallgather(self, sendbuf, recvbuf)\n",
      " |      \n",
      " |      Nonblocking Gather to All\n",
      " |  \n",
      " |  Iallgatherv(...)\n",
      " |      Comm.Iallgatherv(self, sendbuf, recvbuf)\n",
      " |      \n",
      " |      Nonblocking Gather to All Vector\n",
      " |  \n",
      " |  Iallreduce(...)\n",
      " |      Comm.Iallreduce(self, sendbuf, recvbuf, Op op=SUM)\n",
      " |      \n",
      " |      Nonblocking All Reduce\n",
      " |  \n",
      " |  Ialltoall(...)\n",
      " |      Comm.Ialltoall(self, sendbuf, recvbuf)\n",
      " |      \n",
      " |      Nonblocking All to All Scatter/Gather\n",
      " |  \n",
      " |  Ialltoallv(...)\n",
      " |      Comm.Ialltoallv(self, sendbuf, recvbuf)\n",
      " |      \n",
      " |      Nonblocking All to All Scatter/Gather Vector\n",
      " |  \n",
      " |  Ialltoallw(...)\n",
      " |      Comm.Ialltoallw(self, sendbuf, recvbuf)\n",
      " |      \n",
      " |      Nonblocking Generalized All-to-All\n",
      " |  \n",
      " |  Ibarrier(...)\n",
      " |      Comm.Ibarrier(self)\n",
      " |      \n",
      " |      Nonblocking Barrier\n",
      " |  \n",
      " |  Ibcast(...)\n",
      " |      Comm.Ibcast(self, buf, int root=0)\n",
      " |      \n",
      " |      Nonblocking Broadcast\n",
      " |  \n",
      " |  Ibsend(...)\n",
      " |      Comm.Ibsend(self, buf, int dest, int tag=0)\n",
      " |      \n",
      " |      Nonblocking send in buffered mode\n",
      " |  \n",
      " |  Idup(...)\n",
      " |      Comm.Idup(self)\n",
      " |      \n",
      " |      Nonblocking duplicate an existing communicator\n",
      " |  \n",
      " |  Igather(...)\n",
      " |      Comm.Igather(self, sendbuf, recvbuf, int root=0)\n",
      " |      \n",
      " |      Nonblocking Gather\n",
      " |  \n",
      " |  Igatherv(...)\n",
      " |      Comm.Igatherv(self, sendbuf, recvbuf, int root=0)\n",
      " |      \n",
      " |      Nonblocking Gather Vector\n",
      " |  \n",
      " |  Improbe(...)\n",
      " |      Comm.Improbe(self, int source=ANY_SOURCE, int tag=ANY_TAG, Status status=None)\n",
      " |      \n",
      " |      Nonblocking test for a matched message\n",
      " |  \n",
      " |  Iprobe(...)\n",
      " |      Comm.Iprobe(self, int source=ANY_SOURCE, int tag=ANY_TAG, Status status=None)\n",
      " |      \n",
      " |      Nonblocking test for a message\n",
      " |  \n",
      " |  Irecv(...)\n",
      " |      Comm.Irecv(self, buf, int source=ANY_SOURCE, int tag=ANY_TAG)\n",
      " |      \n",
      " |      Nonblocking receive\n",
      " |  \n",
      " |  Ireduce(...)\n",
      " |      Comm.Ireduce(self, sendbuf, recvbuf, Op op=SUM, int root=0)\n",
      " |      \n",
      " |      Nonblocking Reduce\n",
      " |  \n",
      " |  Ireduce_scatter(...)\n",
      " |      Comm.Ireduce_scatter(self, sendbuf, recvbuf, recvcounts=None, Op op=SUM)\n",
      " |      \n",
      " |      Nonblocking Reduce-Scatter (vector version)\n",
      " |  \n",
      " |  Ireduce_scatter_block(...)\n",
      " |      Comm.Ireduce_scatter_block(self, sendbuf, recvbuf, Op op=SUM)\n",
      " |      \n",
      " |      Nonblocking Reduce-Scatter Block (regular, non-vector version)\n",
      " |  \n",
      " |  Irsend(...)\n",
      " |      Comm.Irsend(self, buf, int dest, int tag=0)\n",
      " |      \n",
      " |      Nonblocking send in ready mode\n",
      " |  \n",
      " |  Is_inter(...)\n",
      " |      Comm.Is_inter(self)\n",
      " |      \n",
      " |      Test to see if a comm is an intercommunicator\n",
      " |  \n",
      " |  Is_intra(...)\n",
      " |      Comm.Is_intra(self)\n",
      " |      \n",
      " |      Test to see if a comm is an intracommunicator\n",
      " |  \n",
      " |  Iscatter(...)\n",
      " |      Comm.Iscatter(self, sendbuf, recvbuf, int root=0)\n",
      " |      \n",
      " |      Nonblocking Scatter\n",
      " |  \n",
      " |  Iscatterv(...)\n",
      " |      Comm.Iscatterv(self, sendbuf, recvbuf, int root=0)\n",
      " |      \n",
      " |      Nonblocking Scatter Vector\n",
      " |  \n",
      " |  Isend(...)\n",
      " |      Comm.Isend(self, buf, int dest, int tag=0)\n",
      " |      \n",
      " |      Nonblocking send\n",
      " |  \n",
      " |  Issend(...)\n",
      " |      Comm.Issend(self, buf, int dest, int tag=0)\n",
      " |      \n",
      " |      Nonblocking send in synchronous mode\n",
      " |  \n",
      " |  Join(...) from builtins.type\n",
      " |      Comm.Join(type cls, int fd)\n",
      " |      \n",
      " |      Create a intercommunicator by joining\n",
      " |      two processes connected by a socket\n",
      " |  \n",
      " |  Mprobe(...)\n",
      " |      Comm.Mprobe(self, int source=ANY_SOURCE, int tag=ANY_TAG, Status status=None)\n",
      " |      \n",
      " |      Blocking test for a matched message\n",
      " |  \n",
      " |  Probe(...)\n",
      " |      Comm.Probe(self, int source=ANY_SOURCE, int tag=ANY_TAG, Status status=None)\n",
      " |      \n",
      " |      Blocking test for a message\n",
      " |      \n",
      " |      .. note:: This function blocks until the message arrives.\n",
      " |  \n",
      " |  Recv(...)\n",
      " |      Comm.Recv(self, buf, int source=ANY_SOURCE, int tag=ANY_TAG, Status status=None)\n",
      " |      \n",
      " |      Blocking receive\n",
      " |      \n",
      " |      .. note:: This function blocks until the message is received\n",
      " |  \n",
      " |  Recv_init(...)\n",
      " |      Comm.Recv_init(self, buf, int source=ANY_SOURCE, int tag=ANY_TAG)\n",
      " |      \n",
      " |      Create a persistent request for a receive\n",
      " |  \n",
      " |  Reduce(...)\n",
      " |      Comm.Reduce(self, sendbuf, recvbuf, Op op=SUM, int root=0)\n",
      " |      \n",
      " |      Reduce\n",
      " |  \n",
      " |  Reduce_scatter(...)\n",
      " |      Comm.Reduce_scatter(self, sendbuf, recvbuf, recvcounts=None, Op op=SUM)\n",
      " |      \n",
      " |      Reduce-Scatter (vector version)\n",
      " |  \n",
      " |  Reduce_scatter_block(...)\n",
      " |      Comm.Reduce_scatter_block(self, sendbuf, recvbuf, Op op=SUM)\n",
      " |      \n",
      " |      Reduce-Scatter Block (regular, non-vector version)\n",
      " |  \n",
      " |  Rsend(...)\n",
      " |      Comm.Rsend(self, buf, int dest, int tag=0)\n",
      " |      \n",
      " |      Blocking send in ready mode\n",
      " |  \n",
      " |  Rsend_init(...)\n",
      " |      Comm.Rsend_init(self, buf, int dest, int tag=0)\n",
      " |      \n",
      " |      Persistent request for a send in ready mode\n",
      " |  \n",
      " |  Scatter(...)\n",
      " |      Comm.Scatter(self, sendbuf, recvbuf, int root=0)\n",
      " |      \n",
      " |      Scatter data from one process\n",
      " |      to all other processes in a group\n",
      " |  \n",
      " |  Scatterv(...)\n",
      " |      Comm.Scatterv(self, sendbuf, recvbuf, int root=0)\n",
      " |      \n",
      " |      Scatter Vector, scatter data from one process to all other\n",
      " |      processes in a group providing different amount of data and\n",
      " |      displacements at the sending side\n",
      " |  \n",
      " |  Send(...)\n",
      " |      Comm.Send(self, buf, int dest, int tag=0)\n",
      " |      \n",
      " |      Blocking send\n",
      " |      \n",
      " |      .. note:: This function may block until the message is\n",
      " |         received. Whether or not `Send` blocks depends on\n",
      " |         several factors and is implementation dependent\n",
      " |  \n",
      " |  Send_init(...)\n",
      " |      Comm.Send_init(self, buf, int dest, int tag=0)\n",
      " |      \n",
      " |      Create a persistent request for a standard send\n",
      " |  \n",
      " |  Sendrecv(...)\n",
      " |      Comm.Sendrecv(self, sendbuf, int dest, int sendtag=0, recvbuf=None, int source=ANY_SOURCE, int recvtag=ANY_TAG, Status status=None)\n",
      " |      \n",
      " |      Send and receive a message\n",
      " |      \n",
      " |      .. note:: This function is guaranteed not to deadlock in\n",
      " |         situations where pairs of blocking sends and receives may\n",
      " |         deadlock.\n",
      " |      \n",
      " |      .. caution:: A common mistake when using this function is to\n",
      " |         mismatch the tags with the source and destination ranks,\n",
      " |         which can result in deadlock.\n",
      " |  \n",
      " |  Sendrecv_replace(...)\n",
      " |      Comm.Sendrecv_replace(self, buf, int dest, int sendtag=0, int source=ANY_SOURCE, int recvtag=ANY_TAG, Status status=None)\n",
      " |      \n",
      " |      Send and receive a message\n",
      " |      \n",
      " |      .. note:: This function is guaranteed not to deadlock in\n",
      " |         situations where pairs of blocking sends and receives may\n",
      " |         deadlock.\n",
      " |      \n",
      " |      .. caution:: A common mistake when using this function is to\n",
      " |         mismatch the tags with the source and destination ranks,\n",
      " |         which can result in deadlock.\n",
      " |  \n",
      " |  Set_attr(...)\n",
      " |      Comm.Set_attr(self, int keyval, attrval)\n",
      " |      \n",
      " |      Store attribute value associated with a key\n",
      " |  \n",
      " |  Set_errhandler(...)\n",
      " |      Comm.Set_errhandler(self, Errhandler errhandler)\n",
      " |      \n",
      " |      Set the error handler for a communicator\n",
      " |  \n",
      " |  Set_info(...)\n",
      " |      Comm.Set_info(self, Info info)\n",
      " |      \n",
      " |      Set new values for the hints\n",
      " |      associated with a communicator\n",
      " |  \n",
      " |  Set_name(...)\n",
      " |      Comm.Set_name(self, name)\n",
      " |      \n",
      " |      Set the print name for this communicator\n",
      " |  \n",
      " |  Split(...)\n",
      " |      Comm.Split(self, int color=0, int key=0)\n",
      " |      \n",
      " |      Split communicator by color and key\n",
      " |  \n",
      " |  Split_type(...)\n",
      " |      Comm.Split_type(self, int split_type, int key=0, Info info=INFO_NULL)\n",
      " |      \n",
      " |      Split communicator by color and key\n",
      " |  \n",
      " |  Ssend(...)\n",
      " |      Comm.Ssend(self, buf, int dest, int tag=0)\n",
      " |      \n",
      " |      Blocking send in synchronous mode\n",
      " |  \n",
      " |  Ssend_init(...)\n",
      " |      Comm.Ssend_init(self, buf, int dest, int tag=0)\n",
      " |      \n",
      " |      Persistent request for a send in synchronous mode\n",
      " |  \n",
      " |  __bool__(self, /)\n",
      " |      self != 0\n",
      " |  \n",
      " |  __eq__(self, value, /)\n",
      " |      Return self==value.\n",
      " |  \n",
      " |  __ge__(self, value, /)\n",
      " |      Return self>=value.\n",
      " |  \n",
      " |  __gt__(self, value, /)\n",
      " |      Return self>value.\n",
      " |  \n",
      " |  __le__(self, value, /)\n",
      " |      Return self<=value.\n",
      " |  \n",
      " |  __lt__(self, value, /)\n",
      " |      Return self<value.\n",
      " |  \n",
      " |  __ne__(self, value, /)\n",
      " |      Return self!=value.\n",
      " |  \n",
      " |  __new__(*args, **kwargs) from builtins.type\n",
      " |      Create and return a new object.  See help(type) for accurate signature.\n",
      " |  \n",
      " |  allgather(...)\n",
      " |      Comm.allgather(self, sendobj)\n",
      " |      Gather to All\n",
      " |  \n",
      " |  allreduce(...)\n",
      " |      Comm.allreduce(self, sendobj, op=SUM)\n",
      " |      Reduce to All\n",
      " |  \n",
      " |  alltoall(...)\n",
      " |      Comm.alltoall(self, sendobj)\n",
      " |      All to All Scatter/Gather\n",
      " |  \n",
      " |  barrier(...)\n",
      " |      Comm.barrier(self)\n",
      " |      Barrier\n",
      " |  \n",
      " |  bcast(...)\n",
      " |      Comm.bcast(self, obj, int root=0)\n",
      " |      Broadcast\n",
      " |  \n",
      " |  bsend(...)\n",
      " |      Comm.bsend(self, obj, int dest, int tag=0)\n",
      " |      Send in buffered mode\n",
      " |  \n",
      " |  f2py(...) from builtins.type\n",
      " |      Comm.f2py(type cls, arg)\n",
      " |  \n",
      " |  gather(...)\n",
      " |      Comm.gather(self, sendobj, int root=0)\n",
      " |      Gather\n",
      " |  \n",
      " |  ibsend(...)\n",
      " |      Comm.ibsend(self, obj, int dest, int tag=0)\n",
      " |      Nonblocking send in buffered mode\n",
      " |  \n",
      " |  improbe(...)\n",
      " |      Comm.improbe(self, int source=ANY_SOURCE, int tag=ANY_TAG, Status status=None)\n",
      " |      Nonblocking test for a matched message\n",
      " |  \n",
      " |  iprobe(...)\n",
      " |      Comm.iprobe(self, int source=ANY_SOURCE, int tag=ANY_TAG, Status status=None)\n",
      " |      Nonblocking test for a message\n",
      " |  \n",
      " |  irecv(...)\n",
      " |      Comm.irecv(self, buf=None, int source=ANY_SOURCE, int tag=ANY_TAG)\n",
      " |      Nonblocking receive\n",
      " |  \n",
      " |  isend(...)\n",
      " |      Comm.isend(self, obj, int dest, int tag=0)\n",
      " |      Nonblocking send\n",
      " |  \n",
      " |  issend(...)\n",
      " |      Comm.issend(self, obj, int dest, int tag=0)\n",
      " |      Nonblocking send in synchronous mode\n",
      " |  \n",
      " |  mprobe(...)\n",
      " |      Comm.mprobe(self, int source=ANY_SOURCE, int tag=ANY_TAG, Status status=None)\n",
      " |      Blocking test for a matched message\n",
      " |  \n",
      " |  probe(...)\n",
      " |      Comm.probe(self, int source=ANY_SOURCE, int tag=ANY_TAG, Status status=None)\n",
      " |      Blocking test for a message\n",
      " |  \n",
      " |  py2f(...)\n",
      " |      Comm.py2f(self)\n",
      " |  \n",
      " |  recv(...)\n",
      " |      Comm.recv(self, buf=None, int source=ANY_SOURCE, int tag=ANY_TAG, Status status=None)\n",
      " |      Receive\n",
      " |  \n",
      " |  reduce(...)\n",
      " |      Comm.reduce(self, sendobj, op=SUM, int root=0)\n",
      " |      Reduce\n",
      " |  \n",
      " |  scatter(...)\n",
      " |      Comm.scatter(self, sendobj, int root=0)\n",
      " |      Scatter\n",
      " |  \n",
      " |  send(...)\n",
      " |      Comm.send(self, obj, int dest, int tag=0)\n",
      " |      Send\n",
      " |  \n",
      " |  sendrecv(...)\n",
      " |      Comm.sendrecv(self, sendobj, int dest, int sendtag=0, recvbuf=None, int source=ANY_SOURCE, int recvtag=ANY_TAG, Status status=None)\n",
      " |      Send and Receive\n",
      " |  \n",
      " |  ssend(...)\n",
      " |      Comm.ssend(self, obj, int dest, int tag=0)\n",
      " |      Send in synchronous mode\n",
      " |  \n",
      " |  ----------------------------------------------------------------------\n",
      " |  Data descriptors defined here:\n",
      " |  \n",
      " |  group\n",
      " |      communicator group\n",
      " |  \n",
      " |  info\n",
      " |      communicator info\n",
      " |  \n",
      " |  is_inter\n",
      " |      is intercommunicator\n",
      " |  \n",
      " |  is_intra\n",
      " |      is intracommunicator\n",
      " |  \n",
      " |  is_topo\n",
      " |      is a topology communicator\n",
      " |  \n",
      " |  name\n",
      " |      communicator name\n",
      " |  \n",
      " |  rank\n",
      " |      rank of this process in communicator\n",
      " |  \n",
      " |  size\n",
      " |      number of processes in communicator\n",
      " |  \n",
      " |  topology\n",
      " |      communicator topology type\n",
      " |  \n",
      " |  ----------------------------------------------------------------------\n",
      " |  Data and other attributes defined here:\n",
      " |  \n",
      " |  __hash__ = None\n",
      "\n"
     ]
    }
   ],
   "source": [
    "help(MPI.Comm)"
   ]
  },
  {
   "cell_type": "code",
   "execution_count": 4,
   "metadata": {},
   "outputs": [],
   "source": [
    "_ = MPI.COMM_WORLD"
   ]
  },
  {
   "cell_type": "code",
   "execution_count": 5,
   "metadata": {},
   "outputs": [
    {
     "data": {
      "text/plain": [
       "1"
      ]
     },
     "execution_count": 5,
     "metadata": {},
     "output_type": "execute_result"
    }
   ],
   "source": [
    "_.Get_size()"
   ]
  },
  {
   "cell_type": "code",
   "execution_count": 65,
   "metadata": {},
   "outputs": [
    {
     "name": "stdout",
     "output_type": "stream",
     "text": [
      "Help on Intracomm object:\n",
      "\n",
      "class Intracomm(Comm)\n",
      " |  Intracommunicator\n",
      " |  \n",
      " |  Method resolution order:\n",
      " |      Intracomm\n",
      " |      Comm\n",
      " |      builtins.object\n",
      " |  \n",
      " |  Methods defined here:\n",
      " |  \n",
      " |  Accept(...)\n",
      " |      Intracomm.Accept(self, port_name, Info info=INFO_NULL, int root=0)\n",
      " |      \n",
      " |      Accept a request to form a new intercommunicator\n",
      " |  \n",
      " |  Cart_map(...)\n",
      " |      Intracomm.Cart_map(self, dims, periods=None)\n",
      " |      \n",
      " |      Return an optimal placement for the\n",
      " |      calling process on the physical machine\n",
      " |  \n",
      " |  Connect(...)\n",
      " |      Intracomm.Connect(self, port_name, Info info=INFO_NULL, int root=0)\n",
      " |      \n",
      " |      Make a request to form a new intercommunicator\n",
      " |  \n",
      " |  Create_cart(...)\n",
      " |      Intracomm.Create_cart(self, dims, periods=None, bool reorder=False)\n",
      " |      \n",
      " |      Create cartesian communicator\n",
      " |  \n",
      " |  Create_dist_graph(...)\n",
      " |      Intracomm.Create_dist_graph(self, sources, degrees, destinations, weights=None, Info info=INFO_NULL, bool reorder=False)\n",
      " |      \n",
      " |      Create distributed graph communicator\n",
      " |  \n",
      " |  Create_dist_graph_adjacent(...)\n",
      " |      Intracomm.Create_dist_graph_adjacent(self, sources, destinations, sourceweights=None, destweights=None, Info info=INFO_NULL, bool reorder=False)\n",
      " |      \n",
      " |      Create distributed graph communicator\n",
      " |  \n",
      " |  Create_graph(...)\n",
      " |      Intracomm.Create_graph(self, index, edges, bool reorder=False)\n",
      " |      \n",
      " |      Create graph communicator\n",
      " |  \n",
      " |  Create_intercomm(...)\n",
      " |      Intracomm.Create_intercomm(self, int local_leader, Intracomm peer_comm, int remote_leader, int tag=0)\n",
      " |      \n",
      " |      Create intercommunicator\n",
      " |  \n",
      " |  Exscan(...)\n",
      " |      Intracomm.Exscan(self, sendbuf, recvbuf, Op op=SUM)\n",
      " |      \n",
      " |      Exclusive Scan\n",
      " |  \n",
      " |  Graph_map(...)\n",
      " |      Intracomm.Graph_map(self, index, edges)\n",
      " |      \n",
      " |      Return an optimal placement for the\n",
      " |      calling process on the physical machine\n",
      " |  \n",
      " |  Iexscan(...)\n",
      " |      Intracomm.Iexscan(self, sendbuf, recvbuf, Op op=SUM)\n",
      " |      \n",
      " |      Inclusive Scan\n",
      " |  \n",
      " |  Iscan(...)\n",
      " |      Intracomm.Iscan(self, sendbuf, recvbuf, Op op=SUM)\n",
      " |      \n",
      " |      Inclusive Scan\n",
      " |  \n",
      " |  Scan(...)\n",
      " |      Intracomm.Scan(self, sendbuf, recvbuf, Op op=SUM)\n",
      " |      \n",
      " |      Inclusive Scan\n",
      " |  \n",
      " |  Spawn(...)\n",
      " |      Intracomm.Spawn(self, command, args=None, int maxprocs=1, Info info=INFO_NULL, int root=0, errcodes=None)\n",
      " |      \n",
      " |      Spawn instances of a single MPI application\n",
      " |  \n",
      " |  Spawn_multiple(...)\n",
      " |      Intracomm.Spawn_multiple(self, command, args=None, maxprocs=None, info=INFO_NULL, int root=0, errcodes=None)\n",
      " |      \n",
      " |      Spawn instances of multiple MPI applications\n",
      " |  \n",
      " |  __new__(*args, **kwargs) from builtins.type\n",
      " |      Create and return a new object.  See help(type) for accurate signature.\n",
      " |  \n",
      " |  exscan(...)\n",
      " |      Intracomm.exscan(self, sendobj, op=SUM)\n",
      " |      Exclusive Scan\n",
      " |  \n",
      " |  scan(...)\n",
      " |      Intracomm.scan(self, sendobj, op=SUM)\n",
      " |      Inclusive Scan\n",
      " |  \n",
      " |  ----------------------------------------------------------------------\n",
      " |  Methods inherited from Comm:\n",
      " |  \n",
      " |  Abort(...)\n",
      " |      Comm.Abort(self, int errorcode=0)\n",
      " |      \n",
      " |      Terminate MPI execution environment\n",
      " |      \n",
      " |      .. warning:: This is a direct call, use it with care!!!.\n",
      " |  \n",
      " |  Allgather(...)\n",
      " |      Comm.Allgather(self, sendbuf, recvbuf)\n",
      " |      \n",
      " |      Gather to All, gather data from all processes and\n",
      " |      distribute it to all other processes in a group\n",
      " |  \n",
      " |  Allgatherv(...)\n",
      " |      Comm.Allgatherv(self, sendbuf, recvbuf)\n",
      " |      \n",
      " |      Gather to All Vector, gather data from all processes and\n",
      " |      distribute it to all other processes in a group providing\n",
      " |      different amount of data and displacements\n",
      " |  \n",
      " |  Allreduce(...)\n",
      " |      Comm.Allreduce(self, sendbuf, recvbuf, Op op=SUM)\n",
      " |      \n",
      " |      All Reduce\n",
      " |  \n",
      " |  Alltoall(...)\n",
      " |      Comm.Alltoall(self, sendbuf, recvbuf)\n",
      " |      \n",
      " |      All to All Scatter/Gather, send data from all to all\n",
      " |      processes in a group\n",
      " |  \n",
      " |  Alltoallv(...)\n",
      " |      Comm.Alltoallv(self, sendbuf, recvbuf)\n",
      " |      \n",
      " |      All to All Scatter/Gather Vector, send data from all to all\n",
      " |      processes in a group providing different amount of data and\n",
      " |      displacements\n",
      " |  \n",
      " |  Alltoallw(...)\n",
      " |      Comm.Alltoallw(self, sendbuf, recvbuf)\n",
      " |      \n",
      " |      Generalized All-to-All communication allowing different\n",
      " |      counts, displacements and datatypes for each partner\n",
      " |  \n",
      " |  Barrier(...)\n",
      " |      Comm.Barrier(self)\n",
      " |      \n",
      " |      Barrier synchronization\n",
      " |  \n",
      " |  Bcast(...)\n",
      " |      Comm.Bcast(self, buf, int root=0)\n",
      " |      \n",
      " |      Broadcast a message from one process\n",
      " |      to all other processes in a group\n",
      " |  \n",
      " |  Bsend(...)\n",
      " |      Comm.Bsend(self, buf, int dest, int tag=0)\n",
      " |      \n",
      " |      Blocking send in buffered mode\n",
      " |  \n",
      " |  Bsend_init(...)\n",
      " |      Comm.Bsend_init(self, buf, int dest, int tag=0)\n",
      " |      \n",
      " |      Persistent request for a send in buffered mode\n",
      " |  \n",
      " |  Call_errhandler(...)\n",
      " |      Comm.Call_errhandler(self, int errorcode)\n",
      " |      \n",
      " |      Call the error handler installed on a communicator\n",
      " |  \n",
      " |  Clone(...)\n",
      " |      Comm.Clone(self)\n",
      " |      \n",
      " |      Clone an existing communicator\n",
      " |  \n",
      " |  Compare(...) from builtins.type\n",
      " |      Comm.Compare(type cls, Comm comm1, Comm comm2)\n",
      " |      \n",
      " |      Compare two communicators\n",
      " |  \n",
      " |  Create(...)\n",
      " |      Comm.Create(self, Group group)\n",
      " |      \n",
      " |      Create communicator from group\n",
      " |  \n",
      " |  Create_group(...)\n",
      " |      Comm.Create_group(self, Group group, int tag=0)\n",
      " |      \n",
      " |      Create communicator from group\n",
      " |  \n",
      " |  Create_keyval(...) from builtins.type\n",
      " |      Comm.Create_keyval(type cls, copy_fn=None, delete_fn=None)\n",
      " |      \n",
      " |      Create a new attribute key for communicators\n",
      " |  \n",
      " |  Delete_attr(...)\n",
      " |      Comm.Delete_attr(self, int keyval)\n",
      " |      \n",
      " |      Delete attribute value associated with a key\n",
      " |  \n",
      " |  Disconnect(...)\n",
      " |      Comm.Disconnect(self)\n",
      " |      \n",
      " |      Disconnect from a communicator\n",
      " |  \n",
      " |  Dup(...)\n",
      " |      Comm.Dup(self, Info info=None)\n",
      " |      \n",
      " |      Duplicate an existing communicator\n",
      " |  \n",
      " |  Dup_with_info(...)\n",
      " |      Comm.Dup_with_info(self, Info info)\n",
      " |      \n",
      " |      Duplicate an existing communicator\n",
      " |  \n",
      " |  Free(...)\n",
      " |      Comm.Free(self)\n",
      " |      \n",
      " |      Free a communicator\n",
      " |  \n",
      " |  Free_keyval(...) from builtins.type\n",
      " |      Comm.Free_keyval(type cls, int keyval)\n",
      " |      \n",
      " |      Free and attribute key for communicators\n",
      " |  \n",
      " |  Gather(...)\n",
      " |      Comm.Gather(self, sendbuf, recvbuf, int root=0)\n",
      " |      \n",
      " |      Gather together values from a group of processes\n",
      " |  \n",
      " |  Gatherv(...)\n",
      " |      Comm.Gatherv(self, sendbuf, recvbuf, int root=0)\n",
      " |      \n",
      " |      Gather Vector, gather data to one process from all other\n",
      " |      processes in a group providing different amount of data and\n",
      " |      displacements at the receiving sides\n",
      " |  \n",
      " |  Get_attr(...)\n",
      " |      Comm.Get_attr(self, int keyval)\n",
      " |      \n",
      " |      Retrieve attribute value by key\n",
      " |  \n",
      " |  Get_errhandler(...)\n",
      " |      Comm.Get_errhandler(self)\n",
      " |      \n",
      " |      Get the error handler for a communicator\n",
      " |  \n",
      " |  Get_group(...)\n",
      " |      Comm.Get_group(self)\n",
      " |      \n",
      " |      Access the group associated with a communicator\n",
      " |  \n",
      " |  Get_info(...)\n",
      " |      Comm.Get_info(self)\n",
      " |      \n",
      " |      Return the hints for a communicator\n",
      " |      that are currently in use\n",
      " |  \n",
      " |  Get_name(...)\n",
      " |      Comm.Get_name(self)\n",
      " |      \n",
      " |      Get the print name for this communicator\n",
      " |  \n",
      " |  Get_parent(...) from builtins.type\n",
      " |      Comm.Get_parent(type cls)\n",
      " |      \n",
      " |      Return the parent intercommunicator for this process\n",
      " |  \n",
      " |  Get_rank(...)\n",
      " |      Comm.Get_rank(self)\n",
      " |      \n",
      " |      Return the rank of this process in a communicator\n",
      " |  \n",
      " |  Get_size(...)\n",
      " |      Comm.Get_size(self)\n",
      " |      \n",
      " |      Return the number of processes in a communicator\n",
      " |  \n",
      " |  Get_topology(...)\n",
      " |      Comm.Get_topology(self)\n",
      " |      \n",
      " |      Determine the type of topology (if any)\n",
      " |      associated with a communicator\n",
      " |  \n",
      " |  Iallgather(...)\n",
      " |      Comm.Iallgather(self, sendbuf, recvbuf)\n",
      " |      \n",
      " |      Nonblocking Gather to All\n",
      " |  \n",
      " |  Iallgatherv(...)\n",
      " |      Comm.Iallgatherv(self, sendbuf, recvbuf)\n",
      " |      \n",
      " |      Nonblocking Gather to All Vector\n",
      " |  \n",
      " |  Iallreduce(...)\n",
      " |      Comm.Iallreduce(self, sendbuf, recvbuf, Op op=SUM)\n",
      " |      \n",
      " |      Nonblocking All Reduce\n",
      " |  \n",
      " |  Ialltoall(...)\n",
      " |      Comm.Ialltoall(self, sendbuf, recvbuf)\n",
      " |      \n",
      " |      Nonblocking All to All Scatter/Gather\n",
      " |  \n",
      " |  Ialltoallv(...)\n",
      " |      Comm.Ialltoallv(self, sendbuf, recvbuf)\n",
      " |      \n",
      " |      Nonblocking All to All Scatter/Gather Vector\n",
      " |  \n",
      " |  Ialltoallw(...)\n",
      " |      Comm.Ialltoallw(self, sendbuf, recvbuf)\n",
      " |      \n",
      " |      Nonblocking Generalized All-to-All\n",
      " |  \n",
      " |  Ibarrier(...)\n",
      " |      Comm.Ibarrier(self)\n",
      " |      \n",
      " |      Nonblocking Barrier\n",
      " |  \n",
      " |  Ibcast(...)\n",
      " |      Comm.Ibcast(self, buf, int root=0)\n",
      " |      \n",
      " |      Nonblocking Broadcast\n",
      " |  \n",
      " |  Ibsend(...)\n",
      " |      Comm.Ibsend(self, buf, int dest, int tag=0)\n",
      " |      \n",
      " |      Nonblocking send in buffered mode\n",
      " |  \n",
      " |  Idup(...)\n",
      " |      Comm.Idup(self)\n",
      " |      \n",
      " |      Nonblocking duplicate an existing communicator\n",
      " |  \n",
      " |  Igather(...)\n",
      " |      Comm.Igather(self, sendbuf, recvbuf, int root=0)\n",
      " |      \n",
      " |      Nonblocking Gather\n",
      " |  \n",
      " |  Igatherv(...)\n",
      " |      Comm.Igatherv(self, sendbuf, recvbuf, int root=0)\n",
      " |      \n",
      " |      Nonblocking Gather Vector\n",
      " |  \n",
      " |  Improbe(...)\n",
      " |      Comm.Improbe(self, int source=ANY_SOURCE, int tag=ANY_TAG, Status status=None)\n",
      " |      \n",
      " |      Nonblocking test for a matched message\n",
      " |  \n",
      " |  Iprobe(...)\n",
      " |      Comm.Iprobe(self, int source=ANY_SOURCE, int tag=ANY_TAG, Status status=None)\n",
      " |      \n",
      " |      Nonblocking test for a message\n",
      " |  \n",
      " |  Irecv(...)\n",
      " |      Comm.Irecv(self, buf, int source=ANY_SOURCE, int tag=ANY_TAG)\n",
      " |      \n",
      " |      Nonblocking receive\n",
      " |  \n",
      " |  Ireduce(...)\n",
      " |      Comm.Ireduce(self, sendbuf, recvbuf, Op op=SUM, int root=0)\n",
      " |      \n",
      " |      Nonblocking Reduce\n",
      " |  \n",
      " |  Ireduce_scatter(...)\n",
      " |      Comm.Ireduce_scatter(self, sendbuf, recvbuf, recvcounts=None, Op op=SUM)\n",
      " |      \n",
      " |      Nonblocking Reduce-Scatter (vector version)\n",
      " |  \n",
      " |  Ireduce_scatter_block(...)\n",
      " |      Comm.Ireduce_scatter_block(self, sendbuf, recvbuf, Op op=SUM)\n",
      " |      \n",
      " |      Nonblocking Reduce-Scatter Block (regular, non-vector version)\n",
      " |  \n",
      " |  Irsend(...)\n",
      " |      Comm.Irsend(self, buf, int dest, int tag=0)\n",
      " |      \n",
      " |      Nonblocking send in ready mode\n",
      " |  \n",
      " |  Is_inter(...)\n",
      " |      Comm.Is_inter(self)\n",
      " |      \n",
      " |      Test to see if a comm is an intercommunicator\n",
      " |  \n",
      " |  Is_intra(...)\n",
      " |      Comm.Is_intra(self)\n",
      " |      \n",
      " |      Test to see if a comm is an intracommunicator\n",
      " |  \n",
      " |  Iscatter(...)\n",
      " |      Comm.Iscatter(self, sendbuf, recvbuf, int root=0)\n",
      " |      \n",
      " |      Nonblocking Scatter\n",
      " |  \n",
      " |  Iscatterv(...)\n",
      " |      Comm.Iscatterv(self, sendbuf, recvbuf, int root=0)\n",
      " |      \n",
      " |      Nonblocking Scatter Vector\n",
      " |  \n",
      " |  Isend(...)\n",
      " |      Comm.Isend(self, buf, int dest, int tag=0)\n",
      " |      \n",
      " |      Nonblocking send\n",
      " |  \n",
      " |  Issend(...)\n",
      " |      Comm.Issend(self, buf, int dest, int tag=0)\n",
      " |      \n",
      " |      Nonblocking send in synchronous mode\n",
      " |  \n",
      " |  Join(...) from builtins.type\n",
      " |      Comm.Join(type cls, int fd)\n",
      " |      \n",
      " |      Create a intercommunicator by joining\n",
      " |      two processes connected by a socket\n",
      " |  \n",
      " |  Mprobe(...)\n",
      " |      Comm.Mprobe(self, int source=ANY_SOURCE, int tag=ANY_TAG, Status status=None)\n",
      " |      \n",
      " |      Blocking test for a matched message\n",
      " |  \n",
      " |  Probe(...)\n",
      " |      Comm.Probe(self, int source=ANY_SOURCE, int tag=ANY_TAG, Status status=None)\n",
      " |      \n",
      " |      Blocking test for a message\n",
      " |      \n",
      " |      .. note:: This function blocks until the message arrives.\n",
      " |  \n",
      " |  Recv(...)\n",
      " |      Comm.Recv(self, buf, int source=ANY_SOURCE, int tag=ANY_TAG, Status status=None)\n",
      " |      \n",
      " |      Blocking receive\n",
      " |      \n",
      " |      .. note:: This function blocks until the message is received\n",
      " |  \n",
      " |  Recv_init(...)\n",
      " |      Comm.Recv_init(self, buf, int source=ANY_SOURCE, int tag=ANY_TAG)\n",
      " |      \n",
      " |      Create a persistent request for a receive\n",
      " |  \n",
      " |  Reduce(...)\n",
      " |      Comm.Reduce(self, sendbuf, recvbuf, Op op=SUM, int root=0)\n",
      " |      \n",
      " |      Reduce\n",
      " |  \n",
      " |  Reduce_scatter(...)\n",
      " |      Comm.Reduce_scatter(self, sendbuf, recvbuf, recvcounts=None, Op op=SUM)\n",
      " |      \n",
      " |      Reduce-Scatter (vector version)\n",
      " |  \n",
      " |  Reduce_scatter_block(...)\n",
      " |      Comm.Reduce_scatter_block(self, sendbuf, recvbuf, Op op=SUM)\n",
      " |      \n",
      " |      Reduce-Scatter Block (regular, non-vector version)\n",
      " |  \n",
      " |  Rsend(...)\n",
      " |      Comm.Rsend(self, buf, int dest, int tag=0)\n",
      " |      \n",
      " |      Blocking send in ready mode\n",
      " |  \n",
      " |  Rsend_init(...)\n",
      " |      Comm.Rsend_init(self, buf, int dest, int tag=0)\n",
      " |      \n",
      " |      Persistent request for a send in ready mode\n",
      " |  \n",
      " |  Scatter(...)\n",
      " |      Comm.Scatter(self, sendbuf, recvbuf, int root=0)\n",
      " |      \n",
      " |      Scatter data from one process\n",
      " |      to all other processes in a group\n",
      " |  \n",
      " |  Scatterv(...)\n",
      " |      Comm.Scatterv(self, sendbuf, recvbuf, int root=0)\n",
      " |      \n",
      " |      Scatter Vector, scatter data from one process to all other\n",
      " |      processes in a group providing different amount of data and\n",
      " |      displacements at the sending side\n",
      " |  \n",
      " |  Send(...)\n",
      " |      Comm.Send(self, buf, int dest, int tag=0)\n",
      " |      \n",
      " |      Blocking send\n",
      " |      \n",
      " |      .. note:: This function may block until the message is\n",
      " |         received. Whether or not `Send` blocks depends on\n",
      " |         several factors and is implementation dependent\n",
      " |  \n",
      " |  Send_init(...)\n",
      " |      Comm.Send_init(self, buf, int dest, int tag=0)\n",
      " |      \n",
      " |      Create a persistent request for a standard send\n",
      " |  \n",
      " |  Sendrecv(...)\n",
      " |      Comm.Sendrecv(self, sendbuf, int dest, int sendtag=0, recvbuf=None, int source=ANY_SOURCE, int recvtag=ANY_TAG, Status status=None)\n",
      " |      \n",
      " |      Send and receive a message\n",
      " |      \n",
      " |      .. note:: This function is guaranteed not to deadlock in\n",
      " |         situations where pairs of blocking sends and receives may\n",
      " |         deadlock.\n",
      " |      \n",
      " |      .. caution:: A common mistake when using this function is to\n",
      " |         mismatch the tags with the source and destination ranks,\n",
      " |         which can result in deadlock.\n",
      " |  \n",
      " |  Sendrecv_replace(...)\n",
      " |      Comm.Sendrecv_replace(self, buf, int dest, int sendtag=0, int source=ANY_SOURCE, int recvtag=ANY_TAG, Status status=None)\n",
      " |      \n",
      " |      Send and receive a message\n",
      " |      \n",
      " |      .. note:: This function is guaranteed not to deadlock in\n",
      " |         situations where pairs of blocking sends and receives may\n",
      " |         deadlock.\n",
      " |      \n",
      " |      .. caution:: A common mistake when using this function is to\n",
      " |         mismatch the tags with the source and destination ranks,\n",
      " |         which can result in deadlock.\n",
      " |  \n",
      " |  Set_attr(...)\n",
      " |      Comm.Set_attr(self, int keyval, attrval)\n",
      " |      \n",
      " |      Store attribute value associated with a key\n",
      " |  \n",
      " |  Set_errhandler(...)\n",
      " |      Comm.Set_errhandler(self, Errhandler errhandler)\n",
      " |      \n",
      " |      Set the error handler for a communicator\n",
      " |  \n",
      " |  Set_info(...)\n",
      " |      Comm.Set_info(self, Info info)\n",
      " |      \n",
      " |      Set new values for the hints\n",
      " |      associated with a communicator\n",
      " |  \n",
      " |  Set_name(...)\n",
      " |      Comm.Set_name(self, name)\n",
      " |      \n",
      " |      Set the print name for this communicator\n",
      " |  \n",
      " |  Split(...)\n",
      " |      Comm.Split(self, int color=0, int key=0)\n",
      " |      \n",
      " |      Split communicator by color and key\n",
      " |  \n",
      " |  Split_type(...)\n",
      " |      Comm.Split_type(self, int split_type, int key=0, Info info=INFO_NULL)\n",
      " |      \n",
      " |      Split communicator by color and key\n",
      " |  \n",
      " |  Ssend(...)\n",
      " |      Comm.Ssend(self, buf, int dest, int tag=0)\n",
      " |      \n",
      " |      Blocking send in synchronous mode\n",
      " |  \n",
      " |  Ssend_init(...)\n",
      " |      Comm.Ssend_init(self, buf, int dest, int tag=0)\n",
      " |      \n",
      " |      Persistent request for a send in synchronous mode\n",
      " |  \n",
      " |  __bool__(self, /)\n",
      " |      self != 0\n",
      " |  \n",
      " |  __eq__(self, value, /)\n",
      " |      Return self==value.\n",
      " |  \n",
      " |  __ge__(self, value, /)\n",
      " |      Return self>=value.\n",
      " |  \n",
      " |  __gt__(self, value, /)\n",
      " |      Return self>value.\n",
      " |  \n",
      " |  __le__(self, value, /)\n",
      " |      Return self<=value.\n",
      " |  \n",
      " |  __lt__(self, value, /)\n",
      " |      Return self<value.\n",
      " |  \n",
      " |  __ne__(self, value, /)\n",
      " |      Return self!=value.\n",
      " |  \n",
      " |  allgather(...)\n",
      " |      Comm.allgather(self, sendobj)\n",
      " |      Gather to All\n",
      " |  \n",
      " |  allreduce(...)\n",
      " |      Comm.allreduce(self, sendobj, op=SUM)\n",
      " |      Reduce to All\n",
      " |  \n",
      " |  alltoall(...)\n",
      " |      Comm.alltoall(self, sendobj)\n",
      " |      All to All Scatter/Gather\n",
      " |  \n",
      " |  barrier(...)\n",
      " |      Comm.barrier(self)\n",
      " |      Barrier\n",
      " |  \n",
      " |  bcast(...)\n",
      " |      Comm.bcast(self, obj, int root=0)\n",
      " |      Broadcast\n",
      " |  \n",
      " |  bsend(...)\n",
      " |      Comm.bsend(self, obj, int dest, int tag=0)\n",
      " |      Send in buffered mode\n",
      " |  \n",
      " |  f2py(...) from builtins.type\n",
      " |      Comm.f2py(type cls, arg)\n",
      " |  \n",
      " |  gather(...)\n",
      " |      Comm.gather(self, sendobj, int root=0)\n",
      " |      Gather\n",
      " |  \n",
      " |  ibsend(...)\n",
      " |      Comm.ibsend(self, obj, int dest, int tag=0)\n",
      " |      Nonblocking send in buffered mode\n",
      " |  \n",
      " |  improbe(...)\n",
      " |      Comm.improbe(self, int source=ANY_SOURCE, int tag=ANY_TAG, Status status=None)\n",
      " |      Nonblocking test for a matched message\n",
      " |  \n",
      " |  iprobe(...)\n",
      " |      Comm.iprobe(self, int source=ANY_SOURCE, int tag=ANY_TAG, Status status=None)\n",
      " |      Nonblocking test for a message\n",
      " |  \n",
      " |  irecv(...)\n",
      " |      Comm.irecv(self, buf=None, int source=ANY_SOURCE, int tag=ANY_TAG)\n",
      " |      Nonblocking receive\n",
      " |  \n",
      " |  isend(...)\n",
      " |      Comm.isend(self, obj, int dest, int tag=0)\n",
      " |      Nonblocking send\n",
      " |  \n",
      " |  issend(...)\n",
      " |      Comm.issend(self, obj, int dest, int tag=0)\n",
      " |      Nonblocking send in synchronous mode\n",
      " |  \n",
      " |  mprobe(...)\n",
      " |      Comm.mprobe(self, int source=ANY_SOURCE, int tag=ANY_TAG, Status status=None)\n",
      " |      Blocking test for a matched message\n",
      " |  \n",
      " |  probe(...)\n",
      " |      Comm.probe(self, int source=ANY_SOURCE, int tag=ANY_TAG, Status status=None)\n",
      " |      Blocking test for a message\n",
      " |  \n",
      " |  py2f(...)\n",
      " |      Comm.py2f(self)\n",
      " |  \n",
      " |  recv(...)\n",
      " |      Comm.recv(self, buf=None, int source=ANY_SOURCE, int tag=ANY_TAG, Status status=None)\n",
      " |      Receive\n",
      " |  \n",
      " |  reduce(...)\n",
      " |      Comm.reduce(self, sendobj, op=SUM, int root=0)\n",
      " |      Reduce\n",
      " |  \n",
      " |  scatter(...)\n",
      " |      Comm.scatter(self, sendobj, int root=0)\n",
      " |      Scatter\n",
      " |  \n",
      " |  send(...)\n",
      " |      Comm.send(self, obj, int dest, int tag=0)\n",
      " |      Send\n",
      " |  \n",
      " |  sendrecv(...)\n",
      " |      Comm.sendrecv(self, sendobj, int dest, int sendtag=0, recvbuf=None, int source=ANY_SOURCE, int recvtag=ANY_TAG, Status status=None)\n",
      " |      Send and Receive\n",
      " |  \n",
      " |  ssend(...)\n",
      " |      Comm.ssend(self, obj, int dest, int tag=0)\n",
      " |      Send in synchronous mode\n",
      " |  \n",
      " |  ----------------------------------------------------------------------\n",
      " |  Data descriptors inherited from Comm:\n",
      " |  \n",
      " |  group\n",
      " |      communicator group\n",
      " |  \n",
      " |  info\n",
      " |      communicator info\n",
      " |  \n",
      " |  is_inter\n",
      " |      is intercommunicator\n",
      " |  \n",
      " |  is_intra\n",
      " |      is intracommunicator\n",
      " |  \n",
      " |  is_topo\n",
      " |      is a topology communicator\n",
      " |  \n",
      " |  name\n",
      " |      communicator name\n",
      " |  \n",
      " |  rank\n",
      " |      rank of this process in communicator\n",
      " |  \n",
      " |  size\n",
      " |      number of processes in communicator\n",
      " |  \n",
      " |  topology\n",
      " |      communicator topology type\n",
      " |  \n",
      " |  ----------------------------------------------------------------------\n",
      " |  Data and other attributes inherited from Comm:\n",
      " |  \n",
      " |  __hash__ = None\n",
      "\n"
     ]
    }
   ],
   "source": [
    "help(MPI.COMM_SELF)"
   ]
  },
  {
   "cell_type": "code",
   "execution_count": null,
   "metadata": {},
   "outputs": [],
   "source": [
    " "
   ]
  }
 ],
 "metadata": {
  "kernelspec": {
   "display_name": "Python [conda env:pendulum_v0_py3]",
   "language": "python",
   "name": "conda-env-pendulum_v0_py3-py"
  },
  "language_info": {
   "codemirror_mode": {
    "name": "ipython",
    "version": 3
   },
   "file_extension": ".py",
   "mimetype": "text/x-python",
   "name": "python",
   "nbconvert_exporter": "python",
   "pygments_lexer": "ipython3",
   "version": "3.6.2"
  }
 },
 "nbformat": 4,
 "nbformat_minor": 2
}
